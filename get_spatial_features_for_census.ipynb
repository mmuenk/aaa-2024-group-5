{
 "cells": [
  {
   "cell_type": "code",
   "execution_count": 1,
   "id": "b7056b5f-9472-4db0-9907-c9b1631d9f5f",
   "metadata": {},
   "outputs": [],
   "source": [
    "import pandas as pd\n",
    "import geopandas as gpd\n",
    "from shapely import wkt"
   ]
  },
  {
   "cell_type": "markdown",
   "id": "19b03a52-7ec4-4c32-b945-730b16c12a00",
   "metadata": {},
   "source": [
    "<div>\n",
    "    <span style =\"font-size: 40px; font-weight: bold; color: #8EB944\">\n",
    "        Load the data\n",
    "    </span>\n",
    "    \n",
    "<hr style=\"color: #8EB944; height: 3px;background-color: #8EB944;border: none\">\n",
    "</div>"
   ]
  },
  {
   "cell_type": "code",
   "execution_count": 2,
   "id": "276925fb-cc98-4fb2-abd3-b6050ad2f782",
   "metadata": {},
   "outputs": [],
   "source": [
    "# load the census tract areas as a geodataframe\n",
    "census_gdf = gpd.read_file('Boundaries.geojson', crs='epsg:4326')\n",
    "\n",
    "# load the poi data as a geodataframe\n",
    "poi_gdf = gpd.read_file('POI_data.geojson', crs='epsg:4326')\n",
    "\n",
    "# load the landuse data as a geodataframe\n",
    "landuse_gdf = gpd.read_file('landuse_chicago.geojson',  crs='epsg:4326')\n",
    "\n",
    "# load the taxi trips as a dataframe (only 500k rides are needed for this notebook)\n",
    "taxi_df = pd.read_csv('clean_taxi_data.csv', nrows=500000)\n"
   ]
  },
  {
   "cell_type": "markdown",
   "id": "3866c51c-ad3a-4bdd-9b23-05fb583fb856",
   "metadata": {},
   "source": [
    "<div>\n",
    "    <span style =\"font-size: 40px; font-weight: bold; color: #8EB944\">\n",
    "        Formatting\n",
    "    </span>\n",
    "    \n",
    "<hr style=\"color: #8EB944; height: 3px;background-color: #8EB944;border: none\">\n",
    "</div>\n"
   ]
  },
  {
   "cell_type": "markdown",
   "id": "0eb4558b-85f7-457a-9b84-a1074ac5eb2d",
   "metadata": {},
   "source": [
    "<span style =\"font-size: 18px; font-weight: bold;color: #43556A;\">\n",
    "        1. Drop rides with no dropoff location\n",
    "</span>\n",
    "<hr style=\"color: #8EB944; height: 1px;background-color: #43556A;border: none\">"
   ]
  },
  {
   "cell_type": "code",
   "execution_count": 3,
   "id": "18175d7e-990e-40c8-bac1-7f807f584d44",
   "metadata": {},
   "outputs": [],
   "source": [
    "# for the clustering only trips i.e. start and dropoff can be used\n",
    "taxi_df.drop(taxi_df[taxi_df.dropoff_location.isna()].index, inplace = True)"
   ]
  },
  {
   "cell_type": "markdown",
   "id": "8fe3beb1-b75d-4e43-ba87-e41369d4e2f7",
   "metadata": {},
   "source": [
    "<span style =\"font-size: 18px; font-weight: bold;color: #43556A;\">\n",
    "        2. Recover the formatting of some variables\n",
    "</span>\n",
    "<hr style=\"color: #8EB944; height: 1px;background-color: #43556A;border: none\">\n"
   ]
  },
  {
   "cell_type": "code",
   "execution_count": 4,
   "id": "a0491c5c-3cd4-4b16-982e-1727db010c4c",
   "metadata": {},
   "outputs": [],
   "source": [
    "# drop the 'Unnamed: 0' column\n",
    "taxi_df.drop(columns=['Unnamed: 0'],inplace = True)\n",
    "\n",
    "#  convert the strings to point objects\n",
    "taxi_df['pickup_location'] = taxi_df['pickup_location'].apply(wkt.loads)\n",
    "taxi_df['dropoff_location'] = taxi_df['dropoff_location'].apply(lambda x: wkt.loads(x) if pd.notnull(x) else None)"
   ]
  },
  {
   "cell_type": "code",
   "execution_count": null,
   "id": "ae22c176-1c02-4b7b-bc52-1b649cfc20d2",
   "metadata": {},
   "outputs": [],
   "source": []
  },
  {
   "cell_type": "markdown",
   "id": "40a1b32f-f795-4a3a-954d-3f6ea298f480",
   "metadata": {},
   "source": [
    "<div>\n",
    "    <span style =\"font-size: 40px; font-weight: bold; color: #8EB944\">\n",
    "        Feature Engineering\n",
    "    </span>\n",
    "    \n",
    "<hr style=\"color: #8EB944; height: 3px;background-color: #8EB944;border: none\">\n",
    "</div>"
   ]
  },
  {
   "cell_type": "markdown",
   "id": "a73fc980-3f69-4612-a115-b209a0b190fe",
   "metadata": {},
   "source": [
    "<span style =\"font-size: 16px; font-weight: bold;color: #43556A;\">\n",
    "        Get all the unique pairs of census tract and location"
   ]
  },
  {
   "cell_type": "code",
   "execution_count": 5,
   "id": "328dff78-5332-441d-a73f-2443a7a41104",
   "metadata": {},
   "outputs": [],
   "source": [
    "# Extract unique pair of pickup census tract and pickup location\n",
    "unique_pickup = taxi_df[['pickup_census', 'pickup_location']].drop_duplicates()\n",
    "\n",
    "# Extract unique pair of dropoff census tract and dropoff location\n",
    "unique_dropoff = taxi_df[['dropoff_census', 'dropoff_location']].drop_duplicates()\n",
    "\n",
    "# Rename columns \n",
    "unique_pickup.columns = ['census', 'location']\n",
    "unique_dropoff.columns = ['census', 'location']\n",
    "\n",
    "# Combine both dataframes\n",
    "unique_loc = pd.concat([unique_pickup, unique_dropoff]).drop_duplicates()\n",
    "\n",
    "# Reset index \n",
    "unique_loc.reset_index(drop=True, inplace=True)"
   ]
  },
  {
   "cell_type": "markdown",
   "id": "9c1bf7f6-a7b4-4464-8e47-afd823c9f83a",
   "metadata": {},
   "source": [
    "<span style =\"font-size: 16px; font-weight: bold;color: #43556A;\">\n",
    "        Use the locations for the creating a feature map"
   ]
  },
  {
   "cell_type": "code",
   "execution_count": 6,
   "id": "057eba57-b4d6-4554-b5cc-ec71aab2063d",
   "metadata": {},
   "outputs": [],
   "source": [
    "feature_map = gpd.GeoDataFrame(unique_loc, geometry='location', crs='epsg:4326').to_crs(epsg=26971)"
   ]
  },
  {
   "cell_type": "code",
   "execution_count": null,
   "id": "634bff3f-2c6d-4dc8-89ae-f2befd028b39",
   "metadata": {},
   "outputs": [],
   "source": []
  },
  {
   "cell_type": "code",
   "execution_count": null,
   "id": "871afac6-9be5-45a2-881c-5a30d694bd7b",
   "metadata": {},
   "outputs": [],
   "source": []
  },
  {
   "cell_type": "markdown",
   "id": "974d23df-a811-4616-a718-ccf3162f6b8f",
   "metadata": {},
   "source": [
    "<span style =\"font-size: 18px; font-weight: bold;color: #43556A;\">\n",
    "        1. Create POI features\n",
    "</span>\n",
    "<hr style=\"color: #8EB944; height: 1px;background-color: #43556A;border: none\">\n"
   ]
  },
  {
   "cell_type": "markdown",
   "id": "4879a197-ef62-4d75-bb4c-bfdbd5398c1d",
   "metadata": {},
   "source": [
    "<span style =\"font-size: 18px; font-weight: bold;color: #43556A;\">\n",
    "        1.1 Distance to closest airport"
   ]
  },
  {
   "cell_type": "code",
   "execution_count": 7,
   "id": "1cc5e584-97cd-462d-9bad-6f276040e7d9",
   "metadata": {},
   "outputs": [],
   "source": [
    "# Project the locations of the airports to a crs better fitted for calculating distances (in North America)\n",
    "airports = poi_gdf[poi_gdf.Category=='Airport'].to_crs(epsg=26971)"
   ]
  },
  {
   "cell_type": "markdown",
   "id": "5296cd9f-c16b-4dba-8688-a697f31ba11c",
   "metadata": {},
   "source": [
    "<span style =\"font-size: 16px; font-weight: bold;color: #43556A;\">\n",
    "        Calculate distance to each airport for each census tract centroid and choose the minimum"
   ]
  },
  {
   "cell_type": "code",
   "execution_count": 8,
   "id": "e5cf4937-df8c-451c-bd96-a50b4c45720c",
   "metadata": {},
   "outputs": [],
   "source": [
    "# calculate the distance to the closest airport in chicago in metres for each location\n",
    "feature_map['min_dist_airport'] = feature_map.location.apply(lambda x: airports.distance(x).round().min())"
   ]
  },
  {
   "cell_type": "code",
   "execution_count": null,
   "id": "b23749e4-1c93-45cd-acc1-75cc9c1b7714",
   "metadata": {},
   "outputs": [],
   "source": []
  },
  {
   "cell_type": "markdown",
   "id": "0974ea4f-eac9-4b84-ada5-b4b5eba4e685",
   "metadata": {},
   "source": [
    "<span style =\"font-size: 18px; font-weight: bold;color: #43556A;\">\n",
    "        1.2 Count the number of hotels in each census tract"
   ]
  },
  {
   "cell_type": "markdown",
   "id": "beac4b8d-059f-4112-b08f-1a47350bfd0e",
   "metadata": {},
   "source": [
    "<span style =\"font-size: 16px; font-weight: bold;color: #43556A;\">\n",
    "        Create a geoSeries with the locations of the hotels in chicago \n"
   ]
  },
  {
   "cell_type": "code",
   "execution_count": 9,
   "id": "ba61ee2d-36c3-4caf-b864-665b8bea0fc1",
   "metadata": {},
   "outputs": [],
   "source": [
    "hotels = poi_gdf[poi_gdf.Category=='Hotel']"
   ]
  },
  {
   "cell_type": "code",
   "execution_count": 10,
   "id": "62455125-d058-48a8-814e-d06904d4b6b8",
   "metadata": {},
   "outputs": [],
   "source": [
    "# find all the census tracts that have hotels in it\n",
    "hotels_in_census = gpd.sjoin(hotels, census_gdf, how='inner', predicate='within')\n",
    "\n",
    "\n",
    "# convert the census id to integer as this type is used in the taxi trip dataset\n",
    "hotels_in_census.geoid10 = hotels_in_census.geoid10.astype('Int64')\n",
    "\n",
    "# count the number of hotels in each census tract\n",
    "hotel_counter = dict(hotels_in_census['geoid10'].value_counts())"
   ]
  },
  {
   "cell_type": "markdown",
   "id": "31c272ef-a4be-406f-8519-16e05640476d",
   "metadata": {},
   "source": [
    "<span style =\"font-size: 16px; font-weight: bold;color: #43556A;\">\n",
    "        Add the number of hotels in the respective census tract "
   ]
  },
  {
   "cell_type": "code",
   "execution_count": 11,
   "id": "6ecaaed3-f696-4c82-bdec-6177d466bab3",
   "metadata": {},
   "outputs": [],
   "source": [
    "feature_map['num_hotels'] = feature_map.census.apply(lambda x: hotel_counter[x] \\\n",
    "                                                     if x in hotel_counter else 0)"
   ]
  },
  {
   "cell_type": "code",
   "execution_count": null,
   "id": "e5d1a06b-efff-4ded-a509-dc1c037dcd10",
   "metadata": {},
   "outputs": [],
   "source": []
  },
  {
   "cell_type": "markdown",
   "id": "fd8fe598-1b4f-4ca9-b4a8-b7765f36a409",
   "metadata": {},
   "source": [
    "<span style =\"font-size: 18px; font-weight: bold;color: #43556A;\">\n",
    "        1.3 Count the number of bars/clubs in each census tract\n"
   ]
  },
  {
   "cell_type": "markdown",
   "id": "d8054a8b-c0ba-46e0-aa85-21fd8fd0b81b",
   "metadata": {},
   "source": [
    "<span style =\"font-size: 16px; font-weight: bold;color: #43556A;\">\n",
    "        Create a geoSeries with the locations of the bars/clubs in chicago \n"
   ]
  },
  {
   "cell_type": "code",
   "execution_count": 12,
   "id": "2792b29c-e557-4224-9fff-bcf222e6d231",
   "metadata": {},
   "outputs": [],
   "source": [
    "bars_clubs = poi_gdf[poi_gdf.Category=='Bar/ Night Club']"
   ]
  },
  {
   "cell_type": "code",
   "execution_count": 13,
   "id": "0e86f3e2-b338-43fd-ae60-909fb036f19a",
   "metadata": {},
   "outputs": [],
   "source": [
    "# find all the census tracts that have bars/clubs in it\n",
    "bar_club_in_census = gpd.sjoin(bars_clubs, census_gdf, how='inner', predicate='within')\n",
    "\n",
    "# convert the census id to integer, as this type is used in the taxi trip dataset\n",
    "bar_club_in_census.geoid10 = bar_club_in_census.geoid10.astype('Int64')\n",
    "\n",
    "# count the number of bars/clubs in each census tract\n",
    "bar_club_counter = dict(bar_club_in_census['geoid10'].value_counts())"
   ]
  },
  {
   "cell_type": "markdown",
   "id": "74984cef-bfcd-407d-8690-f516874659c2",
   "metadata": {},
   "source": [
    "<span style =\"font-size: 16px; font-weight: bold;color: #43556A;\">\n",
    "        Add the number of bars/clubs in the respective census tract to each ride "
   ]
  },
  {
   "cell_type": "code",
   "execution_count": 14,
   "id": "721174c3-7b75-4a9a-9f7c-a3ccfc34c575",
   "metadata": {},
   "outputs": [],
   "source": [
    "feature_map['num_bars'] = feature_map.census.apply(lambda x: bar_club_counter[x] \\\n",
    "                                                     if x in bar_club_counter else 0)"
   ]
  },
  {
   "cell_type": "code",
   "execution_count": null,
   "id": "c4573475-3c05-46bb-add5-1f54662800ee",
   "metadata": {},
   "outputs": [],
   "source": []
  },
  {
   "cell_type": "markdown",
   "id": "74d29d75-c413-491f-9ee9-4040f111719f",
   "metadata": {},
   "source": [
    "<span style =\"font-size: 18px; font-weight: bold;color: #43556A;\">\n",
    "        1.4 Count the number of stadiums in each census tract\n"
   ]
  },
  {
   "cell_type": "markdown",
   "id": "27024bcb-340e-4ecf-8e55-438cc7d5e0fc",
   "metadata": {},
   "source": [
    "We did not filter out the smaller stadiums which obviously should explain fewer rides as the stadium of the chicago bears or chicago cubs. However, when looking at the heat map with the POI locations, the stadiums seems to be a weak predictor for taxi rides. "
   ]
  },
  {
   "cell_type": "code",
   "execution_count": 15,
   "id": "835be112-fe48-4e64-a74f-c73a31175bb1",
   "metadata": {},
   "outputs": [],
   "source": [
    "stadiums = poi_gdf[poi_gdf.Category=='Stadium']"
   ]
  },
  {
   "cell_type": "code",
   "execution_count": 16,
   "id": "668217a6-9afc-432a-8245-4ce7317ddd43",
   "metadata": {},
   "outputs": [],
   "source": [
    "# find all the census tracts that have stadiums in it\n",
    "stadiums_in_census = gpd.sjoin(stadiums, census_gdf, how='inner', predicate='within')\n",
    "\n",
    "# convert the census id to integer, as this type is used in the taxi trip dataset\n",
    "stadiums_in_census.geoid10 = stadiums_in_census.geoid10.astype('Int64')\n",
    "\n",
    "# count the number of stadiums in each census tract\n",
    "stadium_counter = dict(stadiums_in_census['geoid10'].value_counts())"
   ]
  },
  {
   "cell_type": "markdown",
   "id": "8f5d0724-6274-4471-8fa4-d80c3af1032b",
   "metadata": {},
   "source": [
    "<span style =\"font-size: 16px; font-weight: bold;color: #43556A;\">\n",
    "        Add the number of stadiums in the respective census tract to each ride "
   ]
  },
  {
   "cell_type": "code",
   "execution_count": 17,
   "id": "5c1d079c-682e-4e4b-81a3-cefc802ab794",
   "metadata": {},
   "outputs": [],
   "source": [
    "feature_map['num_stadiums'] = feature_map.census.apply(lambda x: stadium_counter[x] \\\n",
    "                                                     if x in stadium_counter else 0)"
   ]
  },
  {
   "cell_type": "code",
   "execution_count": null,
   "id": "c1c44b3a-d040-49a6-8c82-ba9a13cfe22b",
   "metadata": {},
   "outputs": [],
   "source": []
  },
  {
   "cell_type": "markdown",
   "id": "b23a3358-2f38-4556-9928-22f414208355",
   "metadata": {},
   "source": [
    "<span style =\"font-size: 18px; font-weight: bold;color: #43556A;\">\n",
    "        1.5 Calculate the distance from the city centre\n"
   ]
  },
  {
   "cell_type": "markdown",
   "id": "25648aa8-8cae-4751-8b72-92ce8df6dc4a",
   "metadata": {},
   "source": [
    "The centre or downtown chicago is in the community area 32 called loop. This information was retrieved from: https://www.chicago.gov/content/dam/city/depts/doit/general/GIS/Chicago_Maps/Citywide_Maps/Community_Areas_W_Numbers.pdf and https://de.wikipedia.org/wiki/Chicago_Loop.\n",
    "We visualized the community areas to verify that the 32 commarea actually matches the shape of the loop community area. Use census[census.commarea=='32'].plot() to check this.\n"
   ]
  },
  {
   "cell_type": "code",
   "execution_count": 18,
   "id": "3cc926e8-5786-44d7-8f42-fb6316b656d3",
   "metadata": {},
   "outputs": [],
   "source": [
    "# index the community area 32 to get the census tracts that lie within that\n",
    "# also project to a crs that is suited for calculating distances\n",
    "loop = census_gdf[census_gdf.commarea=='32'].to_crs(epsg=26971)"
   ]
  },
  {
   "cell_type": "markdown",
   "id": "7bef34e3-33ea-4b67-a2eb-8d6dc20d1c9f",
   "metadata": {},
   "source": [
    "<span style =\"font-size: 18px; font-weight: bold;color: #43556A;\">\n",
    "        Calculate distance to census tract in chicago downtown for each census tract centroid and choose the minimum"
   ]
  },
  {
   "cell_type": "markdown",
   "id": "86f5f115-c646-418b-9497-b32970606d55",
   "metadata": {},
   "source": [
    "We can reuse the projected unique locations that were used to calculate the distances to the airports. We we define the distance to the centre as the minimum distance to one of the census tracts that are within the community area 32 which is chicago downtown. Note that there are 5 census tracts within community area 32, thus, there should be 5 census tracts with a minimum distance of 0 which is the case here.\n"
   ]
  },
  {
   "cell_type": "code",
   "execution_count": 19,
   "id": "26e380d9-4b6b-42f8-bd39-637667aba9b3",
   "metadata": {},
   "outputs": [],
   "source": [
    "# create a dictionary with all the unique locations as keys and the minimum distance to chicago downtown as the value\n",
    "# we do this to avoid calculating the distance 14 million times\n",
    "\n",
    "# calculate the distance to the closest airport in chicago in metres for each location\n",
    "feature_map['dist_centre'] = feature_map.location.apply(lambda x: loop.distance(x).round().min())"
   ]
  },
  {
   "cell_type": "code",
   "execution_count": null,
   "id": "651675b4-c2c0-4f5d-bd34-da171226f879",
   "metadata": {},
   "outputs": [],
   "source": []
  },
  {
   "cell_type": "markdown",
   "id": "0a11fcba-c036-4a1b-b8b2-7e14307587f5",
   "metadata": {},
   "source": [
    "<span style =\"font-size: 18px; font-weight: bold;color: #43556A;\">\n",
    "        1.6 Check whether one of the two airports is in the census tract\n"
   ]
  },
  {
   "cell_type": "markdown",
   "id": "ef659cf1-65ce-4ab5-9020-6f159c0a9162",
   "metadata": {},
   "source": [
    "We already calculated thee minimum distance to the airports, but it may the case that census tracts close to the airports do not get more rides than the ones further away. Therefore, we also create a binary feauture that is 1 when there is a airport in the census tract. We reuse the airport dataframe from above.\n"
   ]
  },
  {
   "cell_type": "code",
   "execution_count": 20,
   "id": "48ba3731-c6a9-4cc3-936f-8d0f66bb081d",
   "metadata": {},
   "outputs": [],
   "source": [
    "# Filter the POIs by the specified category\n",
    "airports = poi_gdf[poi_gdf.Category == 'Airport']\n",
    "    \n",
    "# Reproject the airports to a suitable CRS for distance calculations\n",
    "airports = airports.to_crs(epsg=26971)\n",
    "    \n",
    "# Apply a 1000-meter buffer around the POI locations (we only have the airport locations as a single point)\n",
    "airports_buffer = airports.copy()\n",
    "airports_buffer['geometry'] = airports_buffer.geometry.buffer(1100)\n",
    "    \n",
    "# Reproject the feature_map to the same CRS\n",
    "feature_map_projected = feature_map.to_crs(epsg=26971)\n",
    "    \n",
    "# Perform a spatial join to find all census tra that intersect with the buffered airports\n",
    "airport_in_hex = gpd.sjoin(airports_buffer, feature_map_projected, how='inner', predicate='intersects')\n",
    "    \n",
    "\n",
    " # Reproject feature_map back to the original CRS\n",
    "feature_map = feature_map_projected.to_crs(epsg=4326)\n",
    "    \n",
    "# Add the count of airports to the respective hexagon in feature_map\n",
    "feature_map['airport_in_census'] = feature_map.census.apply(\n",
    "        lambda x: 1 if x in list(airport_in_hex.census) else 0.0)\n",
    "\n",
    "\n"
   ]
  },
  {
   "cell_type": "markdown",
   "id": "08421073-d07d-4884-8449-50b6f4fb6e8c",
   "metadata": {},
   "source": [
    "<span style =\"font-size: 18px; font-weight: bold;color: #43556A;\">\n",
    "        2. Create land use  features\n",
    "</span>\n",
    "<hr style=\"color: #8EB944; height: 1px;background-color: #43556A;border: none\">"
   ]
  },
  {
   "cell_type": "markdown",
   "id": "23a10b77-2e7b-4e2e-b58f-43d60a584c2b",
   "metadata": {},
   "source": [
    "We do not intend to create a feature for each of the 11 landuse categories. Instad, we pick 4 categories that may explain high or low demand census tracts. Large areas of \"open space\" correspond to a lower population density, unlike census tracts with a high percentage of \"residential\" buildings. As \"commercial\" parcels include shopping malls and hotels, they may be a good predictor for high demand census tracts. The same may apply to \"transportation/communication/utilities\" parcels, which include airports and train stations. However, they also include landfill, which should be poor predictors of taxi trips. Adding features with a higher resolution would yield better outcomes, but is too computationally expensive in this project."
   ]
  },
  {
   "cell_type": "markdown",
   "id": "66335bf6-16cf-4c1d-8ef7-3a99a0115fb8",
   "metadata": {},
   "source": [
    "<span style =\"font-size: 16px; font-weight: bold;color: #43556A;\">\n",
    "        2.1 Create a dictionary with landuse percentages per census tract\n"
   ]
  },
  {
   "cell_type": "markdown",
   "id": "7fc26a67-c9e7-4ca9-8dd0-e0acff71af02",
   "metadata": {},
   "source": [
    "We create a dictionary containing the percentage of area usage for each of the categories. We do this so that we need not calculate the area usage 14 million times, which would be computationally expensive."
   ]
  },
  {
   "cell_type": "code",
   "execution_count": 21,
   "id": "6ae645be-1a3f-4cab-9334-c1933069f641",
   "metadata": {},
   "outputs": [],
   "source": [
    "# change the crs of the landuse data such that it matches the other data\n",
    "landuse_gdf.to_crs(epsg=26971, inplace=True)"
   ]
  },
  {
   "cell_type": "code",
   "execution_count": 22,
   "id": "a2575853-7e62-4d07-a6d3-09a0e8318cb8",
   "metadata": {},
   "outputs": [],
   "source": [
    "# calculate the area for each parcel\n",
    "landuse_gdf['area'] = landuse_gdf['geometry'].area"
   ]
  },
  {
   "cell_type": "code",
   "execution_count": 23,
   "id": "17472080-6805-4e98-97bf-3aaf388993e4",
   "metadata": {},
   "outputs": [],
   "source": [
    "# Group by census tract and land use category to sum the areas (also reset the indexes)\n",
    "landuse_by_category = landuse_gdf.groupby(['geoid10', 'LANDUSE'])['area'].sum().reset_index()"
   ]
  },
  {
   "cell_type": "code",
   "execution_count": 24,
   "id": "4490a2bb-cf47-4e5c-963a-40e906d8b102",
   "metadata": {},
   "outputs": [],
   "source": [
    "# Calculate the total area for each census tract\n",
    "total_area = landuse_by_category.groupby('geoid10')['area'].sum().reset_index()\n",
    "\n",
    "# rename the variable\n",
    "total_area = total_area.rename(columns={'area': 'total_area'})"
   ]
  },
  {
   "cell_type": "code",
   "execution_count": 25,
   "id": "46a1d582-c2e5-4784-9f36-07021301f2a1",
   "metadata": {},
   "outputs": [],
   "source": [
    "# Merge total_area with landuse_by_category and calculate the percentage\n",
    "landuse_by_category = landuse_by_category.merge(total_area, on='geoid10')\n",
    "\n",
    "# divide the area for each parcel by the area of the census tract is is within\n",
    "landuse_by_category['percentage'] = ((landuse_by_category['area'] / landuse_by_category['total_area'])*100).round(2)\n",
    "\n",
    "# Create a dictionary to store results\n",
    "landuse_dict = {}\n",
    "\n",
    "# Populate the dictionary with the data\n",
    "for _, row in landuse_by_category.iterrows():\n",
    "    geoid = int(row['geoid10'])\n",
    "    landuse = row['LANDUSE']\n",
    "    percentage = row['percentage']\n",
    "    \n",
    "    if geoid not in landuse_dict:\n",
    "        landuse_dict[geoid] = {}\n",
    "    \n",
    "    landuse_dict[geoid][landuse] = percentage"
   ]
  },
  {
   "cell_type": "code",
   "execution_count": null,
   "id": "9dd7d449-da24-47a8-b5a8-67c53d24fb44",
   "metadata": {},
   "outputs": [],
   "source": []
  },
  {
   "cell_type": "markdown",
   "id": "0089b652-00da-4710-99d5-0d4988e5d526",
   "metadata": {},
   "source": [
    "<span style =\"font-size: 16px; font-weight: bold;color: #43556A;\">\n",
    "        2.2 Percentage of residential areas in a census tract\n"
   ]
  },
  {
   "cell_type": "code",
   "execution_count": 26,
   "id": "0993cb53-b230-4bb5-8e8b-1f56e84bcd60",
   "metadata": {},
   "outputs": [],
   "source": [
    "# get the percentage of residential area for each census tract\n",
    "feature_map['perc_resid'] = feature_map.census.apply(lambda x: landuse_dict[x]['RESIDENTIAL'] \\\n",
    "                                                    if 'RESIDENTIAL' in landuse_dict[x]\\\n",
    "                                                    else 0.0)\n",
    "                                                     "
   ]
  },
  {
   "cell_type": "code",
   "execution_count": null,
   "id": "4a99dda5-252e-450b-ba87-ac64751d5e09",
   "metadata": {},
   "outputs": [],
   "source": []
  },
  {
   "cell_type": "markdown",
   "id": "04660e49-f71b-44d2-af9b-2c881d45e409",
   "metadata": {},
   "source": [
    "<span style =\"font-size: 16px; font-weight: bold;color: #43556A;\">\n",
    "        2.3 Percentage of open space areas in a census tract\n"
   ]
  },
  {
   "cell_type": "code",
   "execution_count": 27,
   "id": "197d060a-e638-459f-9a6a-66c58724edc8",
   "metadata": {},
   "outputs": [],
   "source": [
    "# get the percentage of open area for each census tract\n",
    "feature_map['perc_open'] = feature_map.census.apply(lambda x: landuse_dict[x]['OPEN SPACE'] \\\n",
    "                                                    if 'OPEN SPACE' in landuse_dict[x]\\\n",
    "                                                    else 0.0)\n",
    "     "
   ]
  },
  {
   "cell_type": "code",
   "execution_count": null,
   "id": "93ce7609-c775-4002-a9f9-d2f2becbb9e4",
   "metadata": {},
   "outputs": [],
   "source": []
  },
  {
   "cell_type": "markdown",
   "id": "6fd63389-50d7-47b8-95d5-7cfbc21f3b41",
   "metadata": {},
   "source": [
    "<span style =\"font-size: 16px; font-weight: bold;color: #43556A;\">\n",
    "        2.4 Percentage of open commercial areas in a census tract\n"
   ]
  },
  {
   "cell_type": "code",
   "execution_count": 28,
   "id": "6e47f2c9-2d11-4e4f-8238-60570836a8bf",
   "metadata": {},
   "outputs": [],
   "source": [
    "# get the percentage of commercial area for each census tract\n",
    "feature_map['perc_commerc'] = feature_map.census.apply(lambda x: landuse_dict[x]['COMMERCIAL'] \\\n",
    "                                                    if 'COMMERCIAL' in landuse_dict[x]\\\n",
    "                                                    else 0.0)\n",
    "     "
   ]
  },
  {
   "cell_type": "code",
   "execution_count": null,
   "id": "6452301a-f347-4e4d-8db4-79f1f0725e73",
   "metadata": {},
   "outputs": [],
   "source": []
  },
  {
   "cell_type": "markdown",
   "id": "879749a4-dcd4-4355-bb85-ed79a1366517",
   "metadata": {},
   "source": [
    "<span style =\"font-size: 16px; font-weight: bold;color: #43556A;\">\n",
    "        2.5 Percentage of transportation/communication/utilities areas in a census tract\n"
   ]
  },
  {
   "cell_type": "code",
   "execution_count": 29,
   "id": "6943c851-536e-4483-97c0-af4160fb66c1",
   "metadata": {},
   "outputs": [],
   "source": [
    "# get the percentage of transportation/communication/utilities area for each census tract\n",
    "feature_map['perc_transport'] = feature_map.census.apply(lambda x:\\\n",
    "                                                    landuse_dict[x]['TRANSPORTATION']\n",
    "                                                    if 'TRANSPORTATION' in landuse_dict[x]\\\n",
    "                                                    else 0.0)\n",
    "     "
   ]
  },
  {
   "cell_type": "code",
   "execution_count": 30,
   "id": "321f8ea6-6696-45c0-9721-e192738584db",
   "metadata": {},
   "outputs": [],
   "source": [
    "# write feature map to geojson file (change the crs to the original one)\n",
    "feature_map.to_crs(epsg=4326).to_file('census_spatial_features.geojson')"
   ]
  },
  {
   "cell_type": "code",
   "execution_count": null,
   "id": "ece178a3-6ca0-4758-9ba0-41bf6feb6ed7",
   "metadata": {},
   "outputs": [],
   "source": []
  },
  {
   "cell_type": "code",
   "execution_count": 31,
   "id": "202fe0a1-9cb6-4fda-ab40-5f348da131bb",
   "metadata": {},
   "outputs": [
    {
     "data": {
      "text/html": [
       "<div>\n",
       "<style scoped>\n",
       "    .dataframe tbody tr th:only-of-type {\n",
       "        vertical-align: middle;\n",
       "    }\n",
       "\n",
       "    .dataframe tbody tr th {\n",
       "        vertical-align: top;\n",
       "    }\n",
       "\n",
       "    .dataframe thead th {\n",
       "        text-align: right;\n",
       "    }\n",
       "</style>\n",
       "<table border=\"1\" class=\"dataframe\">\n",
       "  <thead>\n",
       "    <tr style=\"text-align: right;\">\n",
       "      <th></th>\n",
       "      <th>census</th>\n",
       "      <th>location</th>\n",
       "      <th>min_dist_airport</th>\n",
       "      <th>num_hotels</th>\n",
       "      <th>num_bars</th>\n",
       "      <th>num_stadiums</th>\n",
       "      <th>dist_centre</th>\n",
       "      <th>airport_in_census</th>\n",
       "      <th>perc_resid</th>\n",
       "      <th>perc_open</th>\n",
       "      <th>perc_commerc</th>\n",
       "      <th>perc_transport</th>\n",
       "    </tr>\n",
       "  </thead>\n",
       "  <tbody>\n",
       "    <tr>\n",
       "      <th>0</th>\n",
       "      <td>17031081402</td>\n",
       "      <td>POINT (-87.61295 41.89197)</td>\n",
       "      <td>16440.0</td>\n",
       "      <td>0</td>\n",
       "      <td>2</td>\n",
       "      <td>0</td>\n",
       "      <td>410.0</td>\n",
       "      <td>0.0</td>\n",
       "      <td>10.16</td>\n",
       "      <td>6.05</td>\n",
       "      <td>5.49</td>\n",
       "      <td>2.43</td>\n",
       "    </tr>\n",
       "    <tr>\n",
       "      <th>1</th>\n",
       "      <td>17031030800</td>\n",
       "      <td>POINT (-87.66419 41.97991)</td>\n",
       "      <td>20288.0</td>\n",
       "      <td>0</td>\n",
       "      <td>1</td>\n",
       "      <td>0</td>\n",
       "      <td>10544.0</td>\n",
       "      <td>0.0</td>\n",
       "      <td>54.15</td>\n",
       "      <td>0.35</td>\n",
       "      <td>7.83</td>\n",
       "      <td>0.36</td>\n",
       "    </tr>\n",
       "    <tr>\n",
       "      <th>2</th>\n",
       "      <td>17031839100</td>\n",
       "      <td>POINT (-87.63275 41.88099)</td>\n",
       "      <td>14421.0</td>\n",
       "      <td>18</td>\n",
       "      <td>13</td>\n",
       "      <td>0</td>\n",
       "      <td>0.0</td>\n",
       "      <td>0.0</td>\n",
       "      <td>3.66</td>\n",
       "      <td>0.33</td>\n",
       "      <td>38.70</td>\n",
       "      <td>8.09</td>\n",
       "    </tr>\n",
       "    <tr>\n",
       "      <th>3</th>\n",
       "      <td>17031081300</td>\n",
       "      <td>POINT (-87.62076 41.89833)</td>\n",
       "      <td>16513.0</td>\n",
       "      <td>7</td>\n",
       "      <td>2</td>\n",
       "      <td>0</td>\n",
       "      <td>1048.0</td>\n",
       "      <td>0.0</td>\n",
       "      <td>27.75</td>\n",
       "      <td>7.24</td>\n",
       "      <td>22.62</td>\n",
       "      <td>1.20</td>\n",
       "    </tr>\n",
       "    <tr>\n",
       "      <th>4</th>\n",
       "      <td>17031081403</td>\n",
       "      <td>POINT (-87.61887 41.89092)</td>\n",
       "      <td>16014.0</td>\n",
       "      <td>9</td>\n",
       "      <td>7</td>\n",
       "      <td>0</td>\n",
       "      <td>271.0</td>\n",
       "      <td>0.0</td>\n",
       "      <td>13.37</td>\n",
       "      <td>10.69</td>\n",
       "      <td>11.49</td>\n",
       "      <td>4.22</td>\n",
       "    </tr>\n",
       "    <tr>\n",
       "      <th>...</th>\n",
       "      <td>...</td>\n",
       "      <td>...</td>\n",
       "      <td>...</td>\n",
       "      <td>...</td>\n",
       "      <td>...</td>\n",
       "      <td>...</td>\n",
       "      <td>...</td>\n",
       "      <td>...</td>\n",
       "      <td>...</td>\n",
       "      <td>...</td>\n",
       "      <td>...</td>\n",
       "      <td>...</td>\n",
       "    </tr>\n",
       "    <tr>\n",
       "      <th>796</th>\n",
       "      <td>17031670700</td>\n",
       "      <td>POINT (-87.66673 41.78307)</td>\n",
       "      <td>7116.0</td>\n",
       "      <td>0</td>\n",
       "      <td>0</td>\n",
       "      <td>0</td>\n",
       "      <td>9732.0</td>\n",
       "      <td>0.0</td>\n",
       "      <td>29.94</td>\n",
       "      <td>0.00</td>\n",
       "      <td>6.77</td>\n",
       "      <td>0.00</td>\n",
       "    </tr>\n",
       "    <tr>\n",
       "      <th>797</th>\n",
       "      <td>17031671400</td>\n",
       "      <td>POINT (-87.67623 41.77379)</td>\n",
       "      <td>6478.0</td>\n",
       "      <td>0</td>\n",
       "      <td>0</td>\n",
       "      <td>0</td>\n",
       "      <td>10949.0</td>\n",
       "      <td>0.0</td>\n",
       "      <td>33.17</td>\n",
       "      <td>0.00</td>\n",
       "      <td>1.46</td>\n",
       "      <td>17.94</td>\n",
       "    </tr>\n",
       "    <tr>\n",
       "      <th>798</th>\n",
       "      <td>17031520200</td>\n",
       "      <td>POINT (-87.53979 41.71380)</td>\n",
       "      <td>19437.0</td>\n",
       "      <td>0</td>\n",
       "      <td>1</td>\n",
       "      <td>0</td>\n",
       "      <td>18163.0</td>\n",
       "      <td>0.0</td>\n",
       "      <td>20.54</td>\n",
       "      <td>0.18</td>\n",
       "      <td>9.54</td>\n",
       "      <td>19.15</td>\n",
       "    </tr>\n",
       "    <tr>\n",
       "      <th>799</th>\n",
       "      <td>17031671800</td>\n",
       "      <td>POINT (-87.65645 41.76140)</td>\n",
       "      <td>8444.0</td>\n",
       "      <td>0</td>\n",
       "      <td>1</td>\n",
       "      <td>0</td>\n",
       "      <td>11906.0</td>\n",
       "      <td>0.0</td>\n",
       "      <td>41.39</td>\n",
       "      <td>0.00</td>\n",
       "      <td>2.16</td>\n",
       "      <td>5.29</td>\n",
       "    </tr>\n",
       "    <tr>\n",
       "      <th>800</th>\n",
       "      <td>17031520300</td>\n",
       "      <td>POINT (-87.53956 41.70111)</td>\n",
       "      <td>20084.0</td>\n",
       "      <td>0</td>\n",
       "      <td>3</td>\n",
       "      <td>0</td>\n",
       "      <td>19518.0</td>\n",
       "      <td>0.0</td>\n",
       "      <td>55.98</td>\n",
       "      <td>1.51</td>\n",
       "      <td>4.84</td>\n",
       "      <td>0.97</td>\n",
       "    </tr>\n",
       "  </tbody>\n",
       "</table>\n",
       "<p>801 rows × 12 columns</p>\n",
       "</div>"
      ],
      "text/plain": [
       "          census                    location  min_dist_airport  num_hotels  \\\n",
       "0    17031081402  POINT (-87.61295 41.89197)           16440.0           0   \n",
       "1    17031030800  POINT (-87.66419 41.97991)           20288.0           0   \n",
       "2    17031839100  POINT (-87.63275 41.88099)           14421.0          18   \n",
       "3    17031081300  POINT (-87.62076 41.89833)           16513.0           7   \n",
       "4    17031081403  POINT (-87.61887 41.89092)           16014.0           9   \n",
       "..           ...                         ...               ...         ...   \n",
       "796  17031670700  POINT (-87.66673 41.78307)            7116.0           0   \n",
       "797  17031671400  POINT (-87.67623 41.77379)            6478.0           0   \n",
       "798  17031520200  POINT (-87.53979 41.71380)           19437.0           0   \n",
       "799  17031671800  POINT (-87.65645 41.76140)            8444.0           0   \n",
       "800  17031520300  POINT (-87.53956 41.70111)           20084.0           0   \n",
       "\n",
       "     num_bars  num_stadiums  dist_centre  airport_in_census  perc_resid  \\\n",
       "0           2             0        410.0                0.0       10.16   \n",
       "1           1             0      10544.0                0.0       54.15   \n",
       "2          13             0          0.0                0.0        3.66   \n",
       "3           2             0       1048.0                0.0       27.75   \n",
       "4           7             0        271.0                0.0       13.37   \n",
       "..        ...           ...          ...                ...         ...   \n",
       "796         0             0       9732.0                0.0       29.94   \n",
       "797         0             0      10949.0                0.0       33.17   \n",
       "798         1             0      18163.0                0.0       20.54   \n",
       "799         1             0      11906.0                0.0       41.39   \n",
       "800         3             0      19518.0                0.0       55.98   \n",
       "\n",
       "     perc_open  perc_commerc  perc_transport  \n",
       "0         6.05          5.49            2.43  \n",
       "1         0.35          7.83            0.36  \n",
       "2         0.33         38.70            8.09  \n",
       "3         7.24         22.62            1.20  \n",
       "4        10.69         11.49            4.22  \n",
       "..         ...           ...             ...  \n",
       "796       0.00          6.77            0.00  \n",
       "797       0.00          1.46           17.94  \n",
       "798       0.18          9.54           19.15  \n",
       "799       0.00          2.16            5.29  \n",
       "800       1.51          4.84            0.97  \n",
       "\n",
       "[801 rows x 12 columns]"
      ]
     },
     "execution_count": 31,
     "metadata": {},
     "output_type": "execute_result"
    }
   ],
   "source": [
    "feature_map"
   ]
  },
  {
   "cell_type": "code",
   "execution_count": null,
   "id": "57a17250-ab4e-49f4-8a63-acc710cf36b4",
   "metadata": {},
   "outputs": [],
   "source": []
  },
  {
   "cell_type": "code",
   "execution_count": null,
   "id": "d61d987b-d8c4-471d-b986-c8aa3f5f2f94",
   "metadata": {},
   "outputs": [],
   "source": []
  }
 ],
 "metadata": {
  "kernelspec": {
   "display_name": "fullstack",
   "language": "python",
   "name": "fullstack"
  },
  "language_info": {
   "codemirror_mode": {
    "name": "ipython",
    "version": 3
   },
   "file_extension": ".py",
   "mimetype": "text/x-python",
   "name": "python",
   "nbconvert_exporter": "python",
   "pygments_lexer": "ipython3",
   "version": "3.9.13"
  }
 },
 "nbformat": 4,
 "nbformat_minor": 5
}
