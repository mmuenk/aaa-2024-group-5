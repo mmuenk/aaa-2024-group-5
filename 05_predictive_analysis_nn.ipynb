{
 "cells": [
  {
   "cell_type": "code",
   "execution_count": 54,
   "metadata": {},
   "outputs": [],
   "source": [
    "import pandas as pd\n",
    "import numpy as np\n",
    "import tensorflow as tf\n",
    "from tensorflow.keras import layers, models\n",
    "from tensorflow.keras.optimizers import Adam\n",
    "from sklearn.model_selection import train_test_split, GridSearchCV\n",
    "from sklearn.preprocessing import StandardScaler\n",
    "from sklearn.metrics import mean_squared_error, mean_absolute_error, r2_score\n",
    "from sklearn.pipeline import Pipeline\n",
    "from sklearn.base import BaseEstimator, RegressorMixin\n",
    "import random\n",
    "import matplotlib.pyplot as plt"
   ]
  },
  {
   "cell_type": "code",
   "execution_count": 47,
   "metadata": {},
   "outputs": [],
   "source": [
    "#load cleaned data\n",
    "\n",
    "file_path = \"C:/Users/Janis/aaa-2024-group-5/data/\"\n",
    "\n",
    "# loading the different spatial resolution for 1H aggregation\n",
    "df_census_1H = pd.read_csv(f\"{file_path}features_census_1H.csv\")\n",
    "df_hex6_1H = pd.read_csv(f\"{file_path}features_hex6_1H.csv\")\n",
    "df_hex7_1H = pd.read_csv(f\"{file_path}features_hex7_1H.csv\")"
   ]
  },
  {
   "cell_type": "code",
   "execution_count": 55,
   "metadata": {},
   "outputs": [],
   "source": [
    "## drawing random samples from each data frame to account for limited computing power\n",
    "\n",
    "# Set a random seed for reproducibility\n",
    "random_seed = 42\n",
    "\n",
    "# Select a subset of 5000 rows from each data frame\n",
    "df_census_subset = df_census_1H.sample(n=10000, random_state=random_seed)\n",
    "df_hex6_subset = df_hex6_1H.sample(n=10000, random_state=random_seed)\n",
    "df_hex7_subset = df_hex7_1H.sample(n=10000, random_state=random_seed)"
   ]
  },
  {
   "cell_type": "code",
   "execution_count": 49,
   "metadata": {},
   "outputs": [],
   "source": [
    "def preprocess_data(df, train_ratio=0.75, validation_ratio=0.15):\n",
    "    features = ['trip_seconds', 'trip_miles', 'fare', 'temp', 'precip', 'preciprob', 'snow', 'snowdepth', 'windspeed',\n",
    "                'snow_binary', 'rain_binary', 'min_dist_airport', 'dist_centre', 'num_stadiums', 'num_hotels',\n",
    "                'num_bars', 'perc_transport', 'perc_resid', 'perc_commerc', 'perc_open', 'hour', 'day_of_week',\n",
    "                'month', 'weekend_binary', 'bar_hours', 'morning_commuting', 'evening_commuting', 'bar_hours_weekend',\n",
    "                'morning_commuting_week', 'evening_commuting_week']\n",
    "    target = 'rides'\n",
    "    \n",
    "    X = df[features]\n",
    "    y = df[target]\n",
    "    \n",
    "    # Splitting data\n",
    "    X_train, X_temp, y_train, y_temp = train_test_split(X, y, train_size=train_ratio, random_state=random_seed)\n",
    "    X_val, X_test, y_val, y_test = train_test_split(X_temp, y_temp, test_size=validation_ratio / (1 - train_ratio), random_state=random_seed)\n",
    "    \n",
    "    return X_train, X_val, X_test, y_train, y_val, y_test"
   ]
  },
  {
   "cell_type": "code",
   "execution_count": 50,
   "metadata": {},
   "outputs": [],
   "source": [
    "# Neural Network model\n",
    "def create_model(learning_rate=0.01, dropout_rate=0.2):\n",
    "    model = models.Sequential([\n",
    "        layers.Input(shape=(X_train.shape[1],)),\n",
    "        layers.Dense(128, activation='relu'),\n",
    "        layers.Dropout(dropout_rate),\n",
    "        layers.Dense(64, activation='relu'),\n",
    "        layers.Dropout(dropout_rate),\n",
    "        layers.Dense(32, activation='relu'),\n",
    "        layers.Dense(1)\n",
    "    ])\n",
    "    optimizer = Adam(learning_rate=learning_rate)\n",
    "    model.compile(optimizer=optimizer, loss='mean_squared_error')\n",
    "    return model"
   ]
  },
  {
   "cell_type": "code",
   "execution_count": 51,
   "metadata": {},
   "outputs": [],
   "source": [
    "class KerasRegressorWrapper(BaseEstimator, RegressorMixin):\n",
    "    def __init__(self, learning_rate=0.01, dropout_rate=0.2):\n",
    "        self.learning_rate = learning_rate\n",
    "        self.dropout_rate = dropout_rate\n",
    "        self.model = create_model(learning_rate=self.learning_rate, dropout_rate=self.dropout_rate)\n",
    "    \n",
    "    def fit(self, X, y):\n",
    "        self.model.fit(X, y, epochs=10, batch_size=32, verbose=0)\n",
    "        return self\n",
    "    \n",
    "    def predict(self, X):\n",
    "        return self.model.predict(X).flatten()\n",
    "    \n",
    "    def score(self, X, y):\n",
    "        y_pred = self.predict(X)\n",
    "        return -mean_squared_error(y, y_pred)  # Scikit-learn expects higher scores for better models"
   ]
  },
  {
   "cell_type": "code",
   "execution_count": 52,
   "metadata": {},
   "outputs": [],
   "source": [
    "# Prepare datasets for training\n",
    "datasets = {\n",
    "    'census': preprocess_data(df_census_subset),\n",
    "    'hex6': preprocess_data(df_hex6_subset),\n",
    "    'hex7': preprocess_data(df_hex7_subset)\n",
    "}\n",
    "\n",
    "# Grid search parameters\n",
    "param_grid = {\n",
    "    'learning_rate': [0.001, 0.01, 0.1],\n",
    "    'dropout_rate': [0.1, 0.2, 0.3]\n",
    "}"
   ]
  },
  {
   "cell_type": "code",
   "execution_count": 53,
   "metadata": {},
   "outputs": [
    {
     "name": "stdout",
     "output_type": "stream",
     "text": [
      "24/24 [==============================] - 0s 609us/step\n",
      "Results for census:\n",
      "Best parameters: {'dropout_rate': 0.3, 'learning_rate': 0.01}\n",
      "Mean Squared Error: 758.0491409077368\n",
      "Root Mean Squared Error: 27.532692220481035\n",
      "R^2 Score: 0.5565353396950109\n",
      "\n",
      "24/24 [==============================] - 0s 566us/step\n",
      "Results for hex6:\n",
      "Best parameters: {'dropout_rate': 0.3, 'learning_rate': 0.001}\n",
      "Mean Squared Error: 10743.503940384528\n",
      "Root Mean Squared Error: 103.65087525141564\n",
      "R^2 Score: 0.8911294611983469\n",
      "\n",
      "24/24 [==============================] - 0s 566us/step\n",
      "Results for hex7:\n",
      "Best parameters: {'dropout_rate': 0.3, 'learning_rate': 0.01}\n",
      "Mean Squared Error: 2256.9109913702955\n",
      "Root Mean Squared Error: 47.50695729438264\n",
      "R^2 Score: 0.8203198169833212\n",
      "\n"
     ]
    }
   ],
   "source": [
    "# Train models and perform grid search\n",
    "for name, (X_train, X_val, X_test, y_train, y_val, y_test) in datasets.items():\n",
    "    scaler = StandardScaler()\n",
    "    X_train_scaled = scaler.fit_transform(X_train)\n",
    "    X_val_scaled = scaler.transform(X_val)\n",
    "    X_test_scaled = scaler.transform(X_test)\n",
    "    \n",
    "    model = KerasRegressorWrapper()\n",
    "    \n",
    "    grid_search = GridSearchCV(estimator=model, param_grid=param_grid, cv=3, scoring='neg_mean_squared_error', n_jobs=-1)\n",
    "    grid_search.fit(X_train_scaled, y_train)\n",
    "    \n",
    "    best_params = grid_search.best_params_\n",
    "    best_model = grid_search.best_estimator_\n",
    "    \n",
    "    y_pred = best_model.predict(X_test_scaled)\n",
    "    \n",
    "    mse = mean_squared_error(y_test, y_pred)\n",
    "    rmse = np.sqrt(mse)\n",
    "    r2 = r2_score(y_test, y_pred)\n",
    "    \n",
    "    print(f\"Results for {name}:\")\n",
    "    print(f\"Best parameters: {best_params}\")\n",
    "    print(f\"Mean Squared Error: {mse}\")\n",
    "    print(f\"Root Mean Squared Error: {rmse}\")\n",
    "    print(f\"R^2 Score: {r2}\")\n",
    "    print()"
   ]
  }
 ],
 "metadata": {
  "kernelspec": {
   "display_name": "base",
   "language": "python",
   "name": "python3"
  },
  "language_info": {
   "codemirror_mode": {
    "name": "ipython",
    "version": 3
   },
   "file_extension": ".py",
   "mimetype": "text/x-python",
   "name": "python",
   "nbconvert_exporter": "python",
   "pygments_lexer": "ipython3",
   "version": "3.8.5"
  }
 },
 "nbformat": 4,
 "nbformat_minor": 2
}
