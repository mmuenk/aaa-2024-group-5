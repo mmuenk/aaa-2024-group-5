{
 "cells": [
  {
   "cell_type": "code",
   "execution_count": 1,
   "id": "b7056b5f-9472-4db0-9907-c9b1631d9f5f",
   "metadata": {},
   "outputs": [],
   "source": [
    "import pandas as pd\n",
    "import geopandas as gpd\n",
    "import numpy as np\n",
    "import seaborn as sns\n",
    "from shapely.geometry import Point, MultiPolygon, Polygon\n",
    "from shapely import wkt\n",
    "import matplotlib.pyplot as plt"
   ]
  },
  {
   "cell_type": "markdown",
   "id": "19b03a52-7ec4-4c32-b945-730b16c12a00",
   "metadata": {},
   "source": [
    "<div>\n",
    "    <span style =\"font-size: 40px; font-weight: bold; color: #8EB944\">\n",
    "        Load the data\n",
    "    </span>\n",
    "    \n",
    "<hr style=\"color: #8EB944; height: 3px;background-color: #8EB944;border: none\">\n",
    "</div>"
   ]
  },
  {
   "cell_type": "code",
   "execution_count": 2,
   "id": "276925fb-cc98-4fb2-abd3-b6050ad2f782",
   "metadata": {},
   "outputs": [],
   "source": [
    "# load the census tract areas as a geodataframe\n",
    "census_gdf = gpd.read_file('Boundaries.geojson')\n",
    "\n",
    "# load the poi data as a geodataframe\n",
    "poi_gdf = gpd.read_file('POI_data.geojson')\n",
    "\n",
    "# load the landuse data as a geodataframe\n",
    "landuse_gdf = gpd.read_file('landuse_chicago.geojson')\n",
    "\n",
    "# load the taxi trips as a dataframe\n",
    "taxi_df = pd.read_csv('Cleaned_data_final.csv', nrows=500000)\n",
    "\n",
    "# load the weather data, but only a subset of weather variables\n",
    "weather_df = pd.read_csv('Weather_chic.csv')[['datetime', 'temp', 'feelslike', 'dew', 'humidity', 'precip',\n",
    "                                           'precipprob', 'snow', 'snowdepth', \n",
    "                                           'windspeed', 'winddir','cloudcover', 'visibility', 'conditions']]\n"
   ]
  },
  {
   "cell_type": "code",
   "execution_count": null,
   "id": "452addb0-c915-4c40-ad5d-40afc43994f0",
   "metadata": {},
   "outputs": [],
   "source": []
  },
  {
   "cell_type": "markdown",
   "id": "3866c51c-ad3a-4bdd-9b23-05fb583fb856",
   "metadata": {},
   "source": [
    "<div>\n",
    "    <span style =\"font-size: 40px; font-weight: bold; color: #8EB944\">\n",
    "        Formatting\n",
    "    </span>\n",
    "    \n",
    "<hr style=\"color: #8EB944; height: 3px;background-color: #8EB944;border: none\">\n",
    "</div>\n"
   ]
  },
  {
   "cell_type": "markdown",
   "id": "033ca7b9-38b7-4731-acde-60753aa2e0cc",
   "metadata": {},
   "source": [
    "<div class=\"alert alert-block alert-warning\">\n",
    "<b>Disclaimer:</b> Only perform that operation for the cluster analysis\n",
    "</div>"
   ]
  },
  {
   "cell_type": "markdown",
   "id": "0eb4558b-85f7-457a-9b84-a1074ac5eb2d",
   "metadata": {},
   "source": [
    "<span style =\"font-size: 18px; font-weight: bold;color: #43556A;\">\n",
    "        1. Drop rides with no dropoff location\n",
    "</span>\n",
    "<hr style=\"color: #8EB944; height: 1px;background-color: #43556A;border: none\">"
   ]
  },
  {
   "cell_type": "code",
   "execution_count": 3,
   "id": "18175d7e-990e-40c8-bac1-7f807f584d44",
   "metadata": {},
   "outputs": [],
   "source": [
    "# for the clustering only trips i.e. start and dropoff can be used\n",
    "taxi_df.drop(taxi_df[taxi_df.dropoff_location.isna()].index, inplace = True)"
   ]
  },
  {
   "cell_type": "markdown",
   "id": "8fe3beb1-b75d-4e43-ba87-e41369d4e2f7",
   "metadata": {},
   "source": [
    "<span style =\"font-size: 18px; font-weight: bold;color: #43556A;\">\n",
    "        2. Recover the formatting of some variables\n",
    "</span>\n",
    "<hr style=\"color: #8EB944; height: 1px;background-color: #43556A;border: none\">\n"
   ]
  },
  {
   "cell_type": "code",
   "execution_count": 4,
   "id": "df274785-d487-4acf-bc64-bba10f2b5709",
   "metadata": {},
   "outputs": [],
   "source": [
    "# drop the 'Unnamed: 0' column\n",
    "taxi_df.drop(columns=['Unnamed: 0'],inplace = True)\n",
    "\n",
    "#  convert the strings to point objects\n",
    "taxi_df['pickup_location'] = taxi_df['pickup_location'].apply(wkt.loads)\n",
    "taxi_df['dropoff_location'] = taxi_df['dropoff_location'].apply(lambda x: wkt.loads(x) if pd.notnull(x) else None)\n",
    "\n",
    "# create a trip start timestamp (needed for creating the weather feautures)\n",
    "taxi_df['trip_start'] = taxi_df['start_day'] + ' ' + taxi_df['start_time']\n",
    "taxi_df['trip_start'] = pd.to_datetime(taxi_df['trip_start'])\n",
    "\n",
    "\n",
    "# create a trip start timestamp (needed for creating the weather feautures)\n",
    "taxi_df['trip_end'] = taxi_df['end_day'] + ' ' + taxi_df['end_time']\n",
    "taxi_df['trip_end'] = pd.to_datetime(taxi_df['trip_end'])\n",
    "\n",
    "# convert the strings to time objects\n",
    "taxi_df['start_day'] = pd.to_datetime(taxi_df['start_day'])\n",
    "taxi_df['end_day'] = pd.to_datetime(taxi_df['end_day'])\n",
    "\n",
    "# convert the strings to time objects\n",
    "taxi_df['start_time'] = pd.to_datetime(taxi_df['start_time']).dt.floor('H').dt.time\n",
    "taxi_df['end_time'] = pd.to_datetime(taxi_df['end_time']).dt.floor('H').dt.time\n",
    "\n",
    "\n",
    "### format the weather data\n",
    "# convert the datatype of the datetime variable such that it matches the format of the taxi data\n",
    "weather_df['datetime'] = pd.to_datetime(weather_df['datetime'])"
   ]
  },
  {
   "cell_type": "markdown",
   "id": "cf2780f4-0a67-4ef7-955a-70a4cf32d298",
   "metadata": {},
   "source": [
    "<span style =\"font-size: 18px; font-weight: bold;color: #43556A;\">\n",
    "        3. Create two seperate GeoDataFrames\n",
    "</span>\n",
    "<hr style=\"color: #8EB944; height: 1px;background-color: #43556A;border: none\">\n"
   ]
  },
  {
   "cell_type": "code",
   "execution_count": 5,
   "id": "9bb41706-f15c-4282-bc77-d396c0dd737d",
   "metadata": {},
   "outputs": [],
   "source": [
    "# only one geometry can be used in a geodataframe\n",
    "# use a crs that is better suited for calculated distances in chicago\n",
    "taxi_start_gdf = gpd.GeoDataFrame(taxi_df[['trip_start', 'pickup_census', 'pickup_location', 'start_day', 'start_time' ]],\n",
    "                                  geometry='pickup_location', crs='epsg:4326').to_crs(epsg=26971)"
   ]
  },
  {
   "cell_type": "code",
   "execution_count": 6,
   "id": "4c2c101a-e66b-4c74-a593-230409d77c05",
   "metadata": {},
   "outputs": [],
   "source": [
    "# use a crs that is better suited for calculated distances in chicago\n",
    "taxi_end_gdf = gpd.GeoDataFrame(taxi_df[['trip_end','dropoff_census', 'dropoff_location', 'end_day', 'end_time' ]],\n",
    "                                geometry='dropoff_location', crs='epsg:4326').to_crs(epsg=26971)"
   ]
  },
  {
   "cell_type": "code",
   "execution_count": null,
   "id": "ae22c176-1c02-4b7b-bc52-1b649cfc20d2",
   "metadata": {},
   "outputs": [],
   "source": []
  },
  {
   "cell_type": "markdown",
   "id": "40a1b32f-f795-4a3a-954d-3f6ea298f480",
   "metadata": {},
   "source": [
    "<div>\n",
    "    <span style =\"font-size: 40px; font-weight: bold; color: #8EB944\">\n",
    "        Feature Engineering\n",
    "    </span>\n",
    "    \n",
    "<hr style=\"color: #8EB944; height: 3px;background-color: #8EB944;border: none\">\n",
    "</div>"
   ]
  },
  {
   "cell_type": "markdown",
   "id": "974d23df-a811-4616-a718-ccf3162f6b8f",
   "metadata": {},
   "source": [
    "<span style =\"font-size: 18px; font-weight: bold;color: #43556A;\">\n",
    "        1. Calculate the distance to the closest airport\n",
    "</span>\n",
    "<hr style=\"color: #8EB944; height: 1px;background-color: #43556A;border: none\">\n"
   ]
  },
  {
   "cell_type": "code",
   "execution_count": 7,
   "id": "1cc5e584-97cd-462d-9bad-6f276040e7d9",
   "metadata": {},
   "outputs": [],
   "source": [
    "# Project the locations of the airports to a crs better fitted for calculating distances (in North America)\n",
    "airports = poi_gdf[poi_gdf.Category=='Airport'].to_crs(epsg=26971)"
   ]
  },
  {
   "cell_type": "code",
   "execution_count": 8,
   "id": "5f4c2bb9-e64c-4f30-aec0-14f6e69ec324",
   "metadata": {},
   "outputs": [],
   "source": [
    "unique_loc1 = gpd.GeoSeries(taxi_start_gdf['pickup_location'].unique(), crs=\"EPSG:26971\")\n",
    "unique_loc2 = gpd.GeoSeries(taxi_end_gdf['dropoff_location'].unique(), crs=\"EPSG:26971\")\n",
    "\n",
    "# Combine the unique locations from both datasets\n",
    "combined_unique_loc = pd.concat([unique_loc1, unique_loc2]).unique()\n",
    "\n",
    "\n",
    "# Create a GeoSeries with the combined unique locations\n",
    "unique_loc = gpd.GeoSeries(combined_unique_loc, crs=\"EPSG:26971\")"
   ]
  },
  {
   "cell_type": "markdown",
   "id": "fe38db39-7e40-4a57-96ff-abc7ee74b57b",
   "metadata": {},
   "source": [
    "<span style =\"font-size: 16px; font-weight: bold;color: #43556A;\">\n",
    "        Calculate distance to each airport for each census tract centroid and choose the minimum"
   ]
  },
  {
   "cell_type": "code",
   "execution_count": 9,
   "id": "e5cf4937-df8c-451c-bd96-a50b4c45720c",
   "metadata": {},
   "outputs": [],
   "source": [
    "airport_distances = dict(zip(unique_loc, unique_loc.apply(lambda x: airports.distance(x).min())))\n"
   ]
  },
  {
   "cell_type": "code",
   "execution_count": 10,
   "id": "53ee8428-f212-43dd-ae4f-b8b16cc8b74c",
   "metadata": {},
   "outputs": [],
   "source": [
    "taxi_start_gdf['min_dist_airport'] = taxi_start_gdf.pickup_location.apply(lambda x: airport_distances[x])\n",
    "taxi_end_gdf['min_dist_airport'] = taxi_end_gdf.dropoff_location.apply(lambda x: airport_distances[x])"
   ]
  },
  {
   "cell_type": "code",
   "execution_count": null,
   "id": "d7f69fc8-8f2d-44ac-88ad-c332605ae3db",
   "metadata": {},
   "outputs": [],
   "source": []
  },
  {
   "cell_type": "markdown",
   "id": "0974ea4f-eac9-4b84-ada5-b4b5eba4e685",
   "metadata": {},
   "source": [
    "<span style =\"font-size: 18px; font-weight: bold;color: #43556A;\">\n",
    "        2. Count the number of hotels in each census tract\n",
    "</span>\n",
    "<hr style=\"color: #8EB944; height: 1px;background-color: #43556A;border: none\">"
   ]
  },
  {
   "cell_type": "markdown",
   "id": "beac4b8d-059f-4112-b08f-1a47350bfd0e",
   "metadata": {},
   "source": [
    "<span style =\"font-size: 16px; font-weight: bold;color: #43556A;\">\n",
    "        Create a geoSeries with the locations of the hotels in chicago \n"
   ]
  },
  {
   "cell_type": "code",
   "execution_count": 11,
   "id": "ba61ee2d-36c3-4caf-b864-665b8bea0fc1",
   "metadata": {},
   "outputs": [],
   "source": [
    "hotels = poi_gdf[poi_gdf.Category=='Hotel']"
   ]
  },
  {
   "cell_type": "code",
   "execution_count": 12,
   "id": "62455125-d058-48a8-814e-d06904d4b6b8",
   "metadata": {},
   "outputs": [],
   "source": [
    "# find all the census tracts that have hotels in it\n",
    "hotels_in_census = gpd.sjoin(hotels, census_gdf, how='inner', predicate='within')\n",
    "\n",
    "# convert the census id to integer as this type is used in the taxi trip dataset\n",
    "hotels_in_census.geoid10 = hotels_in_census.geoid10.astype('Int64')\n",
    "\n",
    "hotel_counter = dict(hotels_in_census['geoid10'].value_counts())\n",
    "\n",
    "\n"
   ]
  },
  {
   "cell_type": "markdown",
   "id": "31c272ef-a4be-406f-8519-16e05640476d",
   "metadata": {},
   "source": [
    "<span style =\"font-size: 16px; font-weight: bold;color: #43556A;\">\n",
    "        Add the number of hotels in the respective census tract to each ride "
   ]
  },
  {
   "cell_type": "code",
   "execution_count": 13,
   "id": "82f43a21-f2e2-41f1-85f1-d8419c8652f0",
   "metadata": {},
   "outputs": [],
   "source": [
    "taxi_start_gdf['num_hotels'] = taxi_start_gdf.pickup_census.apply(lambda x: hotel_counter[x] if x in hotel_counter else 0)\n",
    "taxi_end_gdf['num_hotels'] = taxi_end_gdf.dropoff_census.apply(lambda x: hotel_counter[x] if x in hotel_counter else 0)"
   ]
  },
  {
   "cell_type": "code",
   "execution_count": null,
   "id": "e5d1a06b-efff-4ded-a509-dc1c037dcd10",
   "metadata": {},
   "outputs": [],
   "source": []
  },
  {
   "cell_type": "markdown",
   "id": "fd8fe598-1b4f-4ca9-b4a8-b7765f36a409",
   "metadata": {},
   "source": [
    "<span style =\"font-size: 18px; font-weight: bold;color: #43556A;\">\n",
    "        3. Count the number of bars/clubs in each census tract\n",
    "</span>\n",
    "<hr style=\"color: #8EB944; height: 1px;background-color: #43556A;border: none\">"
   ]
  },
  {
   "cell_type": "markdown",
   "id": "d8054a8b-c0ba-46e0-aa85-21fd8fd0b81b",
   "metadata": {},
   "source": [
    "<span style =\"font-size: 16px; font-weight: bold;color: #43556A;\">\n",
    "        Create a geoSeries with the locations of the bars/clubs in chicago \n"
   ]
  },
  {
   "cell_type": "code",
   "execution_count": 14,
   "id": "2792b29c-e557-4224-9fff-bcf222e6d231",
   "metadata": {},
   "outputs": [],
   "source": [
    "bars_clubs = poi_gdf[poi_gdf.Category=='Bar/ Night Club']"
   ]
  },
  {
   "cell_type": "code",
   "execution_count": 15,
   "id": "0e86f3e2-b338-43fd-ae60-909fb036f19a",
   "metadata": {},
   "outputs": [],
   "source": [
    "# find all the census tracts that have bars/clubs in it\n",
    "bar_club_in_census = gpd.sjoin(bars_clubs, census_gdf, how='inner', predicate='within')\n",
    "\n",
    "# convert the census id to integer, as this type is used in the taxi trip dataset\n",
    "bar_club_in_census.geoid10 = bar_club_in_census.geoid10.astype('Int64')\n",
    "\n",
    "bar_club_counter = dict(bar_club_in_census['geoid10'].value_counts())\n",
    "\n"
   ]
  },
  {
   "cell_type": "markdown",
   "id": "74984cef-bfcd-407d-8690-f516874659c2",
   "metadata": {},
   "source": [
    "<span style =\"font-size: 16px; font-weight: bold;color: #43556A;\">\n",
    "        Add the number of bars/clubs in the respective census tract to each ride "
   ]
  },
  {
   "cell_type": "code",
   "execution_count": 16,
   "id": "7259f34e-9795-4375-a0e4-06f86cb87114",
   "metadata": {},
   "outputs": [],
   "source": [
    "taxi_start_gdf['num_bars_clubs'] = taxi_start_gdf.pickup_census.apply(lambda x: bar_club_counter[x] if x in bar_club_counter else 0)\n",
    "taxi_end_gdf['num_bars_clubs'] = taxi_end_gdf.dropoff_census.apply(lambda x: bar_club_counter[x] if x in bar_club_counter else 0)"
   ]
  },
  {
   "cell_type": "code",
   "execution_count": null,
   "id": "8091daeb-2d9e-43d0-83e5-ec46bc616eec",
   "metadata": {},
   "outputs": [],
   "source": []
  },
  {
   "cell_type": "markdown",
   "id": "74d29d75-c413-491f-9ee9-4040f111719f",
   "metadata": {},
   "source": [
    "<span style =\"font-size: 18px; font-weight: bold;color: #43556A;\">\n",
    "        4. Count the number of stadiums in each census tract\n",
    "</span>\n",
    "<hr style=\"color: #8EB944; height: 1px;background-color: #43556A;border: none\">"
   ]
  },
  {
   "cell_type": "markdown",
   "id": "27024bcb-340e-4ecf-8e55-438cc7d5e0fc",
   "metadata": {},
   "source": [
    "We did not filter out the smaller stadiums which obviously should explain fewer rides as the stadium of the chicago bears or chicago cubs. However, when looking at the heat map with the POI locations, the stadiums seems to be a weak predictor for taxi rides. "
   ]
  },
  {
   "cell_type": "code",
   "execution_count": 17,
   "id": "835be112-fe48-4e64-a74f-c73a31175bb1",
   "metadata": {},
   "outputs": [],
   "source": [
    "stadiums = poi_gdf[poi_gdf.Category=='Stadium']"
   ]
  },
  {
   "cell_type": "code",
   "execution_count": 18,
   "id": "668217a6-9afc-432a-8245-4ce7317ddd43",
   "metadata": {},
   "outputs": [],
   "source": [
    "# find all the census tracts that have stadiums in it\n",
    "stadiums_in_census = gpd.sjoin(stadiums, census_gdf, how='inner', predicate='within')\n",
    "\n",
    "# convert the census id to integer, as this type is used in the taxi trip dataset\n",
    "stadiums_in_census.geoid10 = stadiums_in_census.geoid10.astype('Int64')\n",
    "\n",
    "stadium_counter = dict(stadiums_in_census['geoid10'].value_counts())\n",
    "\n"
   ]
  },
  {
   "cell_type": "markdown",
   "id": "8f5d0724-6274-4471-8fa4-d80c3af1032b",
   "metadata": {},
   "source": [
    "<span style =\"font-size: 16px; font-weight: bold;color: #43556A;\">\n",
    "        Add the number of stadiums in the respective census tract to each ride "
   ]
  },
  {
   "cell_type": "code",
   "execution_count": 19,
   "id": "9c500ba0-11f4-4d83-a4ff-7dceb76c98e3",
   "metadata": {},
   "outputs": [],
   "source": [
    "taxi_start_gdf['num_stadiums'] = taxi_start_gdf.pickup_census.apply(lambda x: stadium_counter[x] if x in stadium_counter else 0)\n",
    "taxi_end_gdf['num_stadiums'] = taxi_end_gdf.dropoff_census.apply(lambda x: stadium_counter[x] if x in stadium_counter else 0)"
   ]
  },
  {
   "cell_type": "code",
   "execution_count": null,
   "id": "5c1d079c-682e-4e4b-81a3-cefc802ab794",
   "metadata": {},
   "outputs": [],
   "source": []
  },
  {
   "cell_type": "markdown",
   "id": "b23a3358-2f38-4556-9928-22f414208355",
   "metadata": {},
   "source": [
    "<span style =\"font-size: 18px; font-weight: bold;color: #43556A;\">\n",
    "        5. Calculate the distance from the city centre\n",
    "</span>\n",
    "<hr style=\"color: #8EB944; height: 1px;background-color: #43556A;border: none\">"
   ]
  },
  {
   "cell_type": "markdown",
   "id": "25648aa8-8cae-4751-8b72-92ce8df6dc4a",
   "metadata": {},
   "source": [
    "The centre or downtown chicago is in the community area 32 called loop. This information was retrieved from: https://www.chicago.gov/content/dam/city/depts/doit/general/GIS/Chicago_Maps/Citywide_Maps/Community_Areas_W_Numbers.pdf and https://de.wikipedia.org/wiki/Chicago_Loop.\n",
    "We visualized the community areas to verify that the 32 commarea actually matches the shape of the loop community area. Use census[census.commarea=='32'].plot() to check this.\n"
   ]
  },
  {
   "cell_type": "code",
   "execution_count": 20,
   "id": "3cc926e8-5786-44d7-8f42-fb6316b656d3",
   "metadata": {},
   "outputs": [],
   "source": [
    "# index the community area 32 to get the census tracts that lie within that\n",
    "# also project to a crs that is suited for calculating distances\n",
    "loop = census_gdf[census_gdf.commarea=='32'].to_crs(epsg=26971)"
   ]
  },
  {
   "cell_type": "markdown",
   "id": "7bef34e3-33ea-4b67-a2eb-8d6dc20d1c9f",
   "metadata": {},
   "source": [
    "<span style =\"font-size: 18px; font-weight: bold;color: #43556A;\">\n",
    "        Calculate distance to census tract in chicago downtown for each census tract centroid and choose the minimum"
   ]
  },
  {
   "cell_type": "markdown",
   "id": "86f5f115-c646-418b-9497-b32970606d55",
   "metadata": {},
   "source": [
    "We can reuse the projected unique locations that were used to calculate the distances to the airports. We we define the distance to the centre as the minimum distance to one of the census tracts that are within the community area 32 which is chicago downtown. Note that there are 5 census tracts within community area 32, thus, there should be 5 census tracts with a minimum distance of 0 which is the case here.\n"
   ]
  },
  {
   "cell_type": "code",
   "execution_count": 21,
   "id": "26e380d9-4b6b-42f8-bd39-637667aba9b3",
   "metadata": {},
   "outputs": [],
   "source": [
    "# create a dictionary with all the unique locations as keys and the minimum distance to chicago downtown as the value\n",
    "# we do this to avoid calculating the distance 14 million times\n",
    "centre_distances = dict(zip(unique_loc, unique_loc.apply(lambda x: loop.distance(x).min())))"
   ]
  },
  {
   "cell_type": "code",
   "execution_count": 22,
   "id": "0e2a930b-e276-4a46-888b-b3898d2dadbd",
   "metadata": {},
   "outputs": [],
   "source": [
    "# fill in the distance to the centre for each ride\n",
    "\n",
    "taxi_start_gdf['dist_centre'] = taxi_start_gdf.pickup_location.apply(lambda x: centre_distances[x])\n",
    "taxi_end_gdf['dist_centre'] = taxi_end_gdf.dropoff_location.apply(lambda x: centre_distances[x])"
   ]
  },
  {
   "cell_type": "code",
   "execution_count": null,
   "id": "b59ac567-0360-416b-888b-c1ba2f76eefc",
   "metadata": {},
   "outputs": [],
   "source": []
  },
  {
   "cell_type": "markdown",
   "id": "08421073-d07d-4884-8449-50b6f4fb6e8c",
   "metadata": {},
   "source": [
    "<span style =\"font-size: 18px; font-weight: bold;color: #43556A;\">\n",
    "        6. Add land use data as percentage of the census tract\n",
    "</span>\n",
    "<hr style=\"color: #8EB944; height: 1px;background-color: #43556A;border: none\">"
   ]
  },
  {
   "cell_type": "markdown",
   "id": "23a10b77-2e7b-4e2e-b58f-43d60a584c2b",
   "metadata": {},
   "source": [
    "We do not intend to create a feature for each of the 11 landuse categories. Instad, we pick 4 categories that may explain high or low demand census tracts. Large areas of \"open space\" correspond to a lower population density, unlike census tracts with a high percentage of \"residential\" buildings. As \"commercial\" parcels include shopping malls and hotels, they may be a good predictor for high demand census tracts. The same may apply to \"transportation/communication/utilities\" parcels, which include airports and train stations. However, they also include landfill, which should be poor predictors of taxi trips. Adding features with a higher resolution would yield better outcomes, but is too computationally expensive in this project."
   ]
  },
  {
   "cell_type": "markdown",
   "id": "66335bf6-16cf-4c1d-8ef7-3a99a0115fb8",
   "metadata": {},
   "source": [
    "<span style =\"font-size: 16px; font-weight: bold;color: #43556A;\">\n",
    "        6.1 Create a dictionary with landuse percentages per census tract\n"
   ]
  },
  {
   "cell_type": "markdown",
   "id": "7fc26a67-c9e7-4ca9-8dd0-e0acff71af02",
   "metadata": {},
   "source": [
    "We create a dictionary containing the percentage of area usage for each of the categories. We do this so that we need not calculate the area usage 14 million times, which would be computationally expensive."
   ]
  },
  {
   "cell_type": "code",
   "execution_count": 27,
   "id": "6ae645be-1a3f-4cab-9334-c1933069f641",
   "metadata": {},
   "outputs": [],
   "source": [
    "landuse_gdf.to_crs(epsg=26971, inplace=True)"
   ]
  },
  {
   "cell_type": "code",
   "execution_count": 28,
   "id": "a2575853-7e62-4d07-a6d3-09a0e8318cb8",
   "metadata": {},
   "outputs": [],
   "source": [
    "# calculate the area of landuse for each parcel\n",
    "landuse_gdf['area'] = landuse_gdf['geometry'].area"
   ]
  },
  {
   "cell_type": "code",
   "execution_count": 29,
   "id": "17472080-6805-4e98-97bf-3aaf388993e4",
   "metadata": {},
   "outputs": [],
   "source": [
    "# Group by census tract and land use category to sum the areas\n",
    "landuse_by_category = landuse_gdf.groupby(['geoid10', 'LANDUSE'])['area'].sum().reset_index()"
   ]
  },
  {
   "cell_type": "code",
   "execution_count": 35,
   "id": "4490a2bb-cf47-4e5c-963a-40e906d8b102",
   "metadata": {},
   "outputs": [],
   "source": [
    "# Calculate the total area for each census tract\n",
    "total_area = landuse_by_category.groupby('geoid10')['area'].sum().reset_index()\n",
    "\n",
    "# rename the variable\n",
    "total_area = total_area.rename(columns={'area': 'total_area'})"
   ]
  },
  {
   "cell_type": "code",
   "execution_count": 36,
   "id": "46a1d582-c2e5-4784-9f36-07021301f2a1",
   "metadata": {},
   "outputs": [],
   "source": [
    "# Merge total_area with landuse_by_category and calculate the percentage\n",
    "landuse_by_category = landuse_by_category.merge(total_area, on='geoid10')\n",
    "\n",
    "# divide the area for each parcel by the area of the census tract is is within\n",
    "landuse_by_category['percentage'] = ((landuse_by_category['area'] / landuse_by_category['total_area'])*100).round(4)\n",
    "\n",
    "# Create a dictionary to store results\n",
    "landuse_dict = {}\n",
    "\n",
    "# Populate the dictionary with the data\n",
    "for _, row in landuse_by_category.iterrows():\n",
    "    geoid = int(row['geoid10'])\n",
    "    landuse = row['LANDUSE']\n",
    "    percentage = row['percentage']\n",
    "    \n",
    "    if geoid not in landuse_dict:\n",
    "        landuse_dict[geoid] = {}\n",
    "    \n",
    "    landuse_dict[geoid][landuse] = percentage"
   ]
  },
  {
   "cell_type": "markdown",
   "id": "e42096cb-47ff-49e8-8100-fb77358a3241",
   "metadata": {},
   "source": []
  },
  {
   "cell_type": "markdown",
   "id": "0089b652-00da-4710-99d5-0d4988e5d526",
   "metadata": {},
   "source": [
    "<span style =\"font-size: 16px; font-weight: bold;color: #43556A;\">\n",
    "        6.2 Percentage of residential areas in a census tract\n"
   ]
  },
  {
   "cell_type": "code",
   "execution_count": 40,
   "id": "0993cb53-b230-4bb5-8e8b-1f56e84bcd60",
   "metadata": {},
   "outputs": [],
   "source": [
    "# add percentage of residential areas in the census tract where the ride started\n",
    "taxi_start_gdf['perc_resid'] = taxi_start_gdf.pickup_census.apply(lambda x: landuse_dict[x]['RESIDENTIAL']  \\\n",
    "                                                                 if 'RESIDENTIAL' in landuse_dict[x] \\\n",
    "                                                                 else 0.0)\n",
    "\n",
    "# add percentage of residential areas in the census tract where the ride ended\n",
    "\n",
    "taxi_end_gdf['perc_resid'] = taxi_end_gdf.dropoff_census.apply(lambda x: landuse_dict[x]['RESIDENTIAL']  \\\n",
    "                                                                 if 'RESIDENTIAL' in landuse_dict[x] \\\n",
    "                                                                 else 0.0)\n",
    "    "
   ]
  },
  {
   "cell_type": "markdown",
   "id": "04660e49-f71b-44d2-af9b-2c881d45e409",
   "metadata": {},
   "source": [
    "<span style =\"font-size: 16px; font-weight: bold;color: #43556A;\">\n",
    "        6.3 Percentage of open space areas in a census tract\n"
   ]
  },
  {
   "cell_type": "code",
   "execution_count": 43,
   "id": "197d060a-e638-459f-9a6a-66c58724edc8",
   "metadata": {},
   "outputs": [],
   "source": [
    "# add percentage of residential areas in the census tract where the ride started\n",
    "taxi_start_gdf['perc_open'] = taxi_start_gdf.pickup_census.apply(lambda x: landuse_dict[x]['OPEN SPACE']  \\\n",
    "                                                                 if 'OPEN SPACE' in landuse_dict[x] \\\n",
    "                                                                 else 0.0)\n",
    "\n",
    "# add percentage of residential areas in the census tract where the ride ended\n",
    "\n",
    "taxi_end_gdf['perc_open'] = taxi_end_gdf.dropoff_census.apply(lambda x: landuse_dict[x]['OPEN SPACE']  \\\n",
    "                                                                 if 'OPEN SPACE' in landuse_dict[x] \\\n",
    "                                                                 else 0.0)\n",
    "    "
   ]
  },
  {
   "cell_type": "markdown",
   "id": "6fd63389-50d7-47b8-95d5-7cfbc21f3b41",
   "metadata": {},
   "source": [
    "<span style =\"font-size: 16px; font-weight: bold;color: #43556A;\">\n",
    "        6.4 Percentage of open commercial areas in a census tract\n"
   ]
  },
  {
   "cell_type": "code",
   "execution_count": 45,
   "id": "6e47f2c9-2d11-4e4f-8238-60570836a8bf",
   "metadata": {},
   "outputs": [],
   "source": [
    "# add percentage of residential areas in the census tract where the ride started\n",
    "taxi_start_gdf['perc_commerc'] = taxi_start_gdf.pickup_census.apply(lambda x: landuse_dict[x]['COMMERCIAL']  \\\n",
    "                                                                 if 'COMMERCIAL' in landuse_dict[x] \\\n",
    "                                                                 else 0.0)\n",
    "\n",
    "# add percentage of residential areas in the census tract where the ride ended\n",
    "\n",
    "taxi_end_gdf['perc_commerc'] = taxi_end_gdf.dropoff_census.apply(lambda x: landuse_dict[x]['COMMERCIAL']  \\\n",
    "                                                                 if 'COMMERCIAL' in landuse_dict[x] \\\n",
    "                                                                 else 0.0)\n",
    "    "
   ]
  },
  {
   "cell_type": "markdown",
   "id": "879749a4-dcd4-4355-bb85-ed79a1366517",
   "metadata": {},
   "source": [
    "<span style =\"font-size: 16px; font-weight: bold;color: #43556A;\">\n",
    "        6.5 Percentage of transportation/communication/utilities areas in a census tract\n"
   ]
  },
  {
   "cell_type": "code",
   "execution_count": 46,
   "id": "6943c851-536e-4483-97c0-af4160fb66c1",
   "metadata": {},
   "outputs": [],
   "source": [
    "# add percentage of residential areas in the census tract where the ride started\n",
    "taxi_start_gdf['perc_transport'] = taxi_start_gdf.pickup_census.apply(lambda x: landuse_dict[x]['TRANSPORTATION/COMMUNICATION/UTILITIES']  \\\n",
    "                                                                 if 'TRANSPORTATION/COMMUNICATION/UTILITIES' in landuse_dict[x] \\\n",
    "                                                                 else 0.0)\n",
    "\n",
    "# add percentage of residential areas in the census tract where the ride ended\n",
    "\n",
    "taxi_end_gdf['perc_transport'] = taxi_end_gdf.dropoff_census.apply(lambda x: landuse_dict[x]['TRANSPORTATION/COMMUNICATION/UTILITIES']  \\\n",
    "                                                                 if 'TRANSPORTATION/COMMUNICATION/UTILITIES' in landuse_dict[x] \\\n",
    "                                                                 else 0.0)"
   ]
  },
  {
   "cell_type": "markdown",
   "id": "4fcd4365-69db-4963-b931-33256db6e958",
   "metadata": {},
   "source": [
    "<span style =\"font-size: 18px; font-weight: bold;color: #43556A;\">\n",
    "        7. Create new temporal features\n",
    "</span>\n",
    "<hr style=\"color: #8EB944; height: 1px;background-color: #43556A;border: none\">"
   ]
  },
  {
   "cell_type": "code",
   "execution_count": 48,
   "id": "ddf49b32-c945-42ca-9d19-86b805883d26",
   "metadata": {},
   "outputs": [
    {
     "data": {
      "text/html": [
       "<div>\n",
       "<style scoped>\n",
       "    .dataframe tbody tr th:only-of-type {\n",
       "        vertical-align: middle;\n",
       "    }\n",
       "\n",
       "    .dataframe tbody tr th {\n",
       "        vertical-align: top;\n",
       "    }\n",
       "\n",
       "    .dataframe thead th {\n",
       "        text-align: right;\n",
       "    }\n",
       "</style>\n",
       "<table border=\"1\" class=\"dataframe\">\n",
       "  <thead>\n",
       "    <tr style=\"text-align: right;\">\n",
       "      <th></th>\n",
       "      <th>trip_start</th>\n",
       "      <th>pickup_census</th>\n",
       "      <th>pickup_location</th>\n",
       "      <th>start_day</th>\n",
       "      <th>start_time</th>\n",
       "      <th>min_dist_airport</th>\n",
       "      <th>num_hotels</th>\n",
       "      <th>num_bars_clubs</th>\n",
       "      <th>num_stadiums</th>\n",
       "      <th>dist_centre</th>\n",
       "      <th>perc_resid</th>\n",
       "      <th>perc_open</th>\n",
       "      <th>perc_commerc</th>\n",
       "      <th>perc_transport</th>\n",
       "    </tr>\n",
       "  </thead>\n",
       "  <tbody>\n",
       "    <tr>\n",
       "      <th>0</th>\n",
       "      <td>2019-01-01 00:00:00</td>\n",
       "      <td>17031081402</td>\n",
       "      <td>POINT (359784.209 580354.908)</td>\n",
       "      <td>2019-01-01</td>\n",
       "      <td>00:00:00</td>\n",
       "      <td>16440.233888</td>\n",
       "      <td>0</td>\n",
       "      <td>2</td>\n",
       "      <td>0</td>\n",
       "      <td>409.854755</td>\n",
       "      <td>10.1577</td>\n",
       "      <td>6.0507</td>\n",
       "      <td>5.4939</td>\n",
       "      <td>2.4307</td>\n",
       "    </tr>\n",
       "    <tr>\n",
       "      <th>1</th>\n",
       "      <td>2019-01-01 00:00:00</td>\n",
       "      <td>17031030703</td>\n",
       "      <td>POINT (355979.792 589976.966)</td>\n",
       "      <td>2019-01-01</td>\n",
       "      <td>00:00:00</td>\n",
       "      <td>20812.265848</td>\n",
       "      <td>0</td>\n",
       "      <td>0</td>\n",
       "      <td>0</td>\n",
       "      <td>10326.265967</td>\n",
       "      <td>42.7144</td>\n",
       "      <td>0.7026</td>\n",
       "      <td>20.7995</td>\n",
       "      <td>5.7809</td>\n",
       "    </tr>\n",
       "    <tr>\n",
       "      <th>2</th>\n",
       "      <td>2019-01-01 00:00:00</td>\n",
       "      <td>17031839100</td>\n",
       "      <td>POINT (358150.884 579122.089)</td>\n",
       "      <td>2019-01-01</td>\n",
       "      <td>00:00:00</td>\n",
       "      <td>14420.628220</td>\n",
       "      <td>18</td>\n",
       "      <td>13</td>\n",
       "      <td>0</td>\n",
       "      <td>0.000000</td>\n",
       "      <td>3.6550</td>\n",
       "      <td>0.3274</td>\n",
       "      <td>38.6992</td>\n",
       "      <td>8.3371</td>\n",
       "    </tr>\n",
       "    <tr>\n",
       "      <th>3</th>\n",
       "      <td>2019-01-01 00:00:00</td>\n",
       "      <td>17031081300</td>\n",
       "      <td>POINT (359129.577 581055.923)</td>\n",
       "      <td>2019-01-01</td>\n",
       "      <td>00:00:00</td>\n",
       "      <td>16513.005515</td>\n",
       "      <td>7</td>\n",
       "      <td>2</td>\n",
       "      <td>0</td>\n",
       "      <td>1047.752564</td>\n",
       "      <td>27.7549</td>\n",
       "      <td>7.2353</td>\n",
       "      <td>22.6228</td>\n",
       "      <td>1.1982</td>\n",
       "    </tr>\n",
       "    <tr>\n",
       "      <th>4</th>\n",
       "      <td>2019-01-01 00:00:00</td>\n",
       "      <td>17031081403</td>\n",
       "      <td>POINT (359293.639 580234.232)</td>\n",
       "      <td>2019-01-01</td>\n",
       "      <td>00:00:00</td>\n",
       "      <td>16013.596362</td>\n",
       "      <td>9</td>\n",
       "      <td>7</td>\n",
       "      <td>0</td>\n",
       "      <td>271.306902</td>\n",
       "      <td>13.3707</td>\n",
       "      <td>10.6925</td>\n",
       "      <td>11.4934</td>\n",
       "      <td>4.2183</td>\n",
       "    </tr>\n",
       "    <tr>\n",
       "      <th>...</th>\n",
       "      <td>...</td>\n",
       "      <td>...</td>\n",
       "      <td>...</td>\n",
       "      <td>...</td>\n",
       "      <td>...</td>\n",
       "      <td>...</td>\n",
       "      <td>...</td>\n",
       "      <td>...</td>\n",
       "      <td>...</td>\n",
       "      <td>...</td>\n",
       "      <td>...</td>\n",
       "      <td>...</td>\n",
       "      <td>...</td>\n",
       "      <td>...</td>\n",
       "    </tr>\n",
       "    <tr>\n",
       "      <th>499995</th>\n",
       "      <td>2019-01-15 15:00:00</td>\n",
       "      <td>17031320100</td>\n",
       "      <td>POINT (359122.792 579573.589)</td>\n",
       "      <td>2019-01-15</td>\n",
       "      <td>15:00:00</td>\n",
       "      <td>15419.239456</td>\n",
       "      <td>16</td>\n",
       "      <td>2</td>\n",
       "      <td>0</td>\n",
       "      <td>0.000000</td>\n",
       "      <td>16.3317</td>\n",
       "      <td>22.6979</td>\n",
       "      <td>21.6553</td>\n",
       "      <td>2.9455</td>\n",
       "    </tr>\n",
       "    <tr>\n",
       "      <th>499996</th>\n",
       "      <td>2019-01-15 15:00:00</td>\n",
       "      <td>17031839000</td>\n",
       "      <td>POINT (358271.170 578014.686)</td>\n",
       "      <td>2019-01-15</td>\n",
       "      <td>15:00:00</td>\n",
       "      <td>13719.408614</td>\n",
       "      <td>0</td>\n",
       "      <td>3</td>\n",
       "      <td>0</td>\n",
       "      <td>0.000000</td>\n",
       "      <td>33.2197</td>\n",
       "      <td>2.4896</td>\n",
       "      <td>11.9031</td>\n",
       "      <td>7.9407</td>\n",
       "    </tr>\n",
       "    <tr>\n",
       "      <th>499997</th>\n",
       "      <td>2019-01-15 15:00:00</td>\n",
       "      <td>17031070300</td>\n",
       "      <td>POINT (356567.540 584446.842)</td>\n",
       "      <td>2019-01-15</td>\n",
       "      <td>15:00:00</td>\n",
       "      <td>17885.069257</td>\n",
       "      <td>0</td>\n",
       "      <td>7</td>\n",
       "      <td>0</td>\n",
       "      <td>4803.608272</td>\n",
       "      <td>45.1534</td>\n",
       "      <td>1.0211</td>\n",
       "      <td>12.9949</td>\n",
       "      <td>4.3408</td>\n",
       "    </tr>\n",
       "    <tr>\n",
       "      <th>499998</th>\n",
       "      <td>2019-01-15 15:00:00</td>\n",
       "      <td>17031320100</td>\n",
       "      <td>POINT (359122.792 579573.589)</td>\n",
       "      <td>2019-01-15</td>\n",
       "      <td>15:00:00</td>\n",
       "      <td>15419.239456</td>\n",
       "      <td>16</td>\n",
       "      <td>2</td>\n",
       "      <td>0</td>\n",
       "      <td>0.000000</td>\n",
       "      <td>16.3317</td>\n",
       "      <td>22.6979</td>\n",
       "      <td>21.6553</td>\n",
       "      <td>2.9455</td>\n",
       "    </tr>\n",
       "    <tr>\n",
       "      <th>499999</th>\n",
       "      <td>2019-01-15 15:00:00</td>\n",
       "      <td>17031838200</td>\n",
       "      <td>POINT (354645.599 577919.218)</td>\n",
       "      <td>2019-01-15</td>\n",
       "      <td>15:00:00</td>\n",
       "      <td>11283.968057</td>\n",
       "      <td>0</td>\n",
       "      <td>0</td>\n",
       "      <td>0</td>\n",
       "      <td>3209.674310</td>\n",
       "      <td>4.3443</td>\n",
       "      <td>0.6894</td>\n",
       "      <td>4.1769</td>\n",
       "      <td>7.7506</td>\n",
       "    </tr>\n",
       "  </tbody>\n",
       "</table>\n",
       "<p>485655 rows × 14 columns</p>\n",
       "</div>"
      ],
      "text/plain": [
       "                trip_start  pickup_census                pickup_location  \\\n",
       "0      2019-01-01 00:00:00    17031081402  POINT (359784.209 580354.908)   \n",
       "1      2019-01-01 00:00:00    17031030703  POINT (355979.792 589976.966)   \n",
       "2      2019-01-01 00:00:00    17031839100  POINT (358150.884 579122.089)   \n",
       "3      2019-01-01 00:00:00    17031081300  POINT (359129.577 581055.923)   \n",
       "4      2019-01-01 00:00:00    17031081403  POINT (359293.639 580234.232)   \n",
       "...                    ...            ...                            ...   \n",
       "499995 2019-01-15 15:00:00    17031320100  POINT (359122.792 579573.589)   \n",
       "499996 2019-01-15 15:00:00    17031839000  POINT (358271.170 578014.686)   \n",
       "499997 2019-01-15 15:00:00    17031070300  POINT (356567.540 584446.842)   \n",
       "499998 2019-01-15 15:00:00    17031320100  POINT (359122.792 579573.589)   \n",
       "499999 2019-01-15 15:00:00    17031838200  POINT (354645.599 577919.218)   \n",
       "\n",
       "        start_day start_time  min_dist_airport  num_hotels  num_bars_clubs  \\\n",
       "0      2019-01-01   00:00:00      16440.233888           0               2   \n",
       "1      2019-01-01   00:00:00      20812.265848           0               0   \n",
       "2      2019-01-01   00:00:00      14420.628220          18              13   \n",
       "3      2019-01-01   00:00:00      16513.005515           7               2   \n",
       "4      2019-01-01   00:00:00      16013.596362           9               7   \n",
       "...           ...        ...               ...         ...             ...   \n",
       "499995 2019-01-15   15:00:00      15419.239456          16               2   \n",
       "499996 2019-01-15   15:00:00      13719.408614           0               3   \n",
       "499997 2019-01-15   15:00:00      17885.069257           0               7   \n",
       "499998 2019-01-15   15:00:00      15419.239456          16               2   \n",
       "499999 2019-01-15   15:00:00      11283.968057           0               0   \n",
       "\n",
       "        num_stadiums   dist_centre  perc_resid  perc_open  perc_commerc  \\\n",
       "0                  0    409.854755     10.1577     6.0507        5.4939   \n",
       "1                  0  10326.265967     42.7144     0.7026       20.7995   \n",
       "2                  0      0.000000      3.6550     0.3274       38.6992   \n",
       "3                  0   1047.752564     27.7549     7.2353       22.6228   \n",
       "4                  0    271.306902     13.3707    10.6925       11.4934   \n",
       "...              ...           ...         ...        ...           ...   \n",
       "499995             0      0.000000     16.3317    22.6979       21.6553   \n",
       "499996             0      0.000000     33.2197     2.4896       11.9031   \n",
       "499997             0   4803.608272     45.1534     1.0211       12.9949   \n",
       "499998             0      0.000000     16.3317    22.6979       21.6553   \n",
       "499999             0   3209.674310      4.3443     0.6894        4.1769   \n",
       "\n",
       "        perc_transport  \n",
       "0               2.4307  \n",
       "1               5.7809  \n",
       "2               8.3371  \n",
       "3               1.1982  \n",
       "4               4.2183  \n",
       "...                ...  \n",
       "499995          2.9455  \n",
       "499996          7.9407  \n",
       "499997          4.3408  \n",
       "499998          2.9455  \n",
       "499999          7.7506  \n",
       "\n",
       "[485655 rows x 14 columns]"
      ]
     },
     "execution_count": 48,
     "metadata": {},
     "output_type": "execute_result"
    }
   ],
   "source": [
    "taxi_start_gdf"
   ]
  },
  {
   "cell_type": "code",
   "execution_count": null,
   "id": "321f8ea6-6696-45c0-9721-e192738584db",
   "metadata": {},
   "outputs": [],
   "source": []
  }
 ],
 "metadata": {
  "kernelspec": {
   "display_name": "fullstack",
   "language": "python",
   "name": "fullstack"
  },
  "language_info": {
   "codemirror_mode": {
    "name": "ipython",
    "version": 3
   },
   "file_extension": ".py",
   "mimetype": "text/x-python",
   "name": "python",
   "nbconvert_exporter": "python",
   "pygments_lexer": "ipython3",
   "version": "3.9.13"
  }
 },
 "nbformat": 4,
 "nbformat_minor": 5
}
