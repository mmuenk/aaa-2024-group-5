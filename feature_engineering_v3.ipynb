{
 "cells": [
  {
   "cell_type": "code",
   "execution_count": 1,
   "id": "b7056b5f-9472-4db0-9907-c9b1631d9f5f",
   "metadata": {},
   "outputs": [],
   "source": [
    "import pandas as pd\n",
    "import geopandas as gpd\n",
    "from shapely import wkt\n",
    "import h3\n",
    "import matplotlib.pyplot as plt\n",
    "\n",
    "from shapely.geometry import  Polygon"
   ]
  },
  {
   "cell_type": "markdown",
   "id": "19b03a52-7ec4-4c32-b945-730b16c12a00",
   "metadata": {},
   "source": [
    "<div>\n",
    "    <span style =\"font-size: 40px; font-weight: bold; color: #8EB944\">\n",
    "        Load the data\n",
    "    </span>\n",
    "    \n",
    "<hr style=\"color: #8EB944; height: 3px;background-color: #8EB944;border: none\">\n",
    "</div>"
   ]
  },
  {
   "cell_type": "code",
   "execution_count": 2,
   "id": "276925fb-cc98-4fb2-abd3-b6050ad2f782",
   "metadata": {},
   "outputs": [],
   "source": [
    "# load the census tract areas as a geodataframe\n",
    "census_gdf = gpd.read_file('Boundaries.geojson', crs='epsg:4326')\n",
    "\n",
    "# load the poi data as a geodataframe\n",
    "poi_gdf = gpd.read_file('POI_data.geojson', crs='epsg:4326')\n",
    "\n",
    "# load the landuse data as a geodataframe\n",
    "landuse_gdf = gpd.read_file('landuse_chicago.geojson',  crs='epsg:4326')\n",
    "\n",
    "# load the taxi trips as a dataframe (only 500k rides are needed for this notebook)\n",
    "taxi_df = pd.read_csv('clean_taxi_data.csv', nrows=500000)\n",
    "\n",
    "# load the weather data, but only a subset of weather variables\n",
    "weather_df = pd.read_csv('Weather_chic.csv')[['datetime', 'temp', 'feelslike', 'dew', 'humidity', 'precip',\n",
    "                                           'precipprob', 'snow', 'snowdepth', \n",
    "                                           'windspeed', 'winddir','cloudcover', 'visibility', 'conditions']]\n"
   ]
  },
  {
   "cell_type": "markdown",
   "id": "3866c51c-ad3a-4bdd-9b23-05fb583fb856",
   "metadata": {},
   "source": [
    "<div>\n",
    "    <span style =\"font-size: 40px; font-weight: bold; color: #8EB944\">\n",
    "        Formatting\n",
    "    </span>\n",
    "    \n",
    "<hr style=\"color: #8EB944; height: 3px;background-color: #8EB944;border: none\">\n",
    "</div>\n"
   ]
  },
  {
   "cell_type": "markdown",
   "id": "0eb4558b-85f7-457a-9b84-a1074ac5eb2d",
   "metadata": {},
   "source": [
    "<span style =\"font-size: 18px; font-weight: bold;color: #43556A;\">\n",
    "        1. Drop rides with no dropoff location\n",
    "</span>\n",
    "<hr style=\"color: #8EB944; height: 1px;background-color: #43556A;border: none\">"
   ]
  },
  {
   "cell_type": "code",
   "execution_count": 3,
   "id": "18175d7e-990e-40c8-bac1-7f807f584d44",
   "metadata": {},
   "outputs": [],
   "source": [
    "# for the clustering only trips i.e. start and dropoff can be used\n",
    "taxi_df.drop(taxi_df[taxi_df.dropoff_location.isna()].index, inplace = True)"
   ]
  },
  {
   "cell_type": "markdown",
   "id": "8fe3beb1-b75d-4e43-ba87-e41369d4e2f7",
   "metadata": {},
   "source": [
    "<span style =\"font-size: 18px; font-weight: bold;color: #43556A;\">\n",
    "        2. Recover the formatting of some variables\n",
    "</span>\n",
    "<hr style=\"color: #8EB944; height: 1px;background-color: #43556A;border: none\">\n"
   ]
  },
  {
   "cell_type": "code",
   "execution_count": 4,
   "id": "a0491c5c-3cd4-4b16-982e-1727db010c4c",
   "metadata": {},
   "outputs": [],
   "source": [
    "# drop the 'Unnamed: 0' column\n",
    "taxi_df.drop(columns=['Unnamed: 0'],inplace = True)\n",
    "\n",
    "#  convert the strings to point objects\n",
    "taxi_df['pickup_location'] = taxi_df['pickup_location'].apply(wkt.loads)\n",
    "taxi_df['dropoff_location'] = taxi_df['dropoff_location'].apply(lambda x: wkt.loads(x) if pd.notnull(x) else None)"
   ]
  },
  {
   "cell_type": "code",
   "execution_count": null,
   "id": "ae22c176-1c02-4b7b-bc52-1b649cfc20d2",
   "metadata": {},
   "outputs": [],
   "source": []
  },
  {
   "cell_type": "markdown",
   "id": "40a1b32f-f795-4a3a-954d-3f6ea298f480",
   "metadata": {},
   "source": [
    "<div>\n",
    "    <span style =\"font-size: 40px; font-weight: bold; color: #8EB944\">\n",
    "        Feature Engineering\n",
    "    </span>\n",
    "    \n",
    "<hr style=\"color: #8EB944; height: 3px;background-color: #8EB944;border: none\">\n",
    "</div>"
   ]
  },
  {
   "cell_type": "markdown",
   "id": "a73fc980-3f69-4612-a115-b209a0b190fe",
   "metadata": {},
   "source": [
    "<span style =\"font-size: 16px; font-weight: bold;color: #43556A;\">\n",
    "        Get all the unique pairs of census tract and location"
   ]
  },
  {
   "cell_type": "code",
   "execution_count": 5,
   "id": "328dff78-5332-441d-a73f-2443a7a41104",
   "metadata": {},
   "outputs": [],
   "source": [
    "# Extract unique pair of pickup census tract and pickup location\n",
    "unique_pickup = taxi_df[['pickup_census', 'pickup_location']].drop_duplicates()\n",
    "\n",
    "# Extract unique pair of dropoff census tract and dropoff location\n",
    "unique_dropoff = taxi_df[['dropoff_census', 'dropoff_location']].drop_duplicates()\n",
    "\n",
    "# Rename columns \n",
    "unique_pickup.columns = ['census', 'location']\n",
    "unique_dropoff.columns = ['census', 'location']\n",
    "\n",
    "# Combine both dataframes\n",
    "unique_loc = pd.concat([unique_pickup, unique_dropoff]).drop_duplicates()\n",
    "\n",
    "# Reset index \n",
    "unique_loc.reset_index(drop=True, inplace=True)"
   ]
  },
  {
   "cell_type": "markdown",
   "id": "9e037997-bc8a-4126-9b90-80aaddc3c627",
   "metadata": {},
   "source": [
    "<span style =\"font-size: 16px; font-weight: bold;color: #43556A;\">\n",
    "        Get the corresponding hexagon (resolution = 7)"
   ]
  },
  {
   "cell_type": "code",
   "execution_count": 6,
   "id": "45719a5e-0797-4de4-bab8-32ad2884c050",
   "metadata": {},
   "outputs": [],
   "source": [
    "unique_loc[\"h3_hex_id\"] = unique_loc.apply(\n",
    "    lambda row: h3.geo_to_h3(row['location'].y, row['location'].x, 7) \n",
    "    if row['location'] \n",
    "    else 0,\n",
    "    axis=1\n",
    ")"
   ]
  },
  {
   "cell_type": "markdown",
   "id": "f3877353-d6d2-4c8e-956d-f7782936a347",
   "metadata": {},
   "source": [
    "<span style =\"font-size: 16px; font-weight: bold;color: #43556A;\">\n",
    "        Get the unique hexagons (resolution = 7)"
   ]
  },
  {
   "cell_type": "code",
   "execution_count": 38,
   "id": "077d1248-d209-4821-9b18-b8a3e05b656c",
   "metadata": {},
   "outputs": [],
   "source": [
    "df_unique_hex = unique_loc.drop_duplicates(subset=\"h3_hex_id\")[['census', 'h3_hex_id' ]]"
   ]
  },
  {
   "cell_type": "markdown",
   "id": "06f76c27-dd38-4342-8014-62f633204b8b",
   "metadata": {},
   "source": [
    "<span style =\"font-size: 16px; font-weight: bold;color: #43556A;\">\n",
    "        Get the polygon of the hexagons"
   ]
  },
  {
   "cell_type": "code",
   "execution_count": 8,
   "id": "f45cb0cc-60b7-4693-bd0f-ef20f59425dd",
   "metadata": {},
   "outputs": [],
   "source": [
    "df_unique_hex['geometry_hex'] = df_unique_hex.apply(lambda x: Polygon(h3.h3_to_geo_boundary(x[\"h3_hex_id\"], \\\n",
    "                                                                                          geo_json=True)), axis=1)\n"
   ]
  },
  {
   "cell_type": "markdown",
   "id": "8a607682-16de-4260-8355-29ed57999590",
   "metadata": {},
   "source": [
    "<span style =\"font-size: 16px; font-weight: bold;color: #43556A;\">\n",
    "        Get the centroid of each polygon"
   ]
  },
  {
   "cell_type": "code",
   "execution_count": 9,
   "id": "cc22fb4f-769c-40cc-9378-5d99f061d7bf",
   "metadata": {},
   "outputs": [],
   "source": [
    "# Calculate the centroid for each polygon\n",
    "df_unique_hex['centroid'] = df_unique_hex['geometry_hex'].apply(lambda x: x.centroid)\n"
   ]
  },
  {
   "cell_type": "markdown",
   "id": "365cf4e6-b85f-4581-9695-3b21999e2133",
   "metadata": {},
   "source": [
    "<span style =\"font-size: 16px; font-weight: bold;color: #43556A;\">\n",
    "        Create a feature map with the hexagon information"
   ]
  },
  {
   "cell_type": "code",
   "execution_count": 10,
   "id": "6f0603c3-3c34-4536-910e-7faf37a919c4",
   "metadata": {},
   "outputs": [],
   "source": [
    "feature_map = gpd.GeoDataFrame(df_unique_hex, geometry = 'centroid', crs = 'epsg:4326').to_crs(epsg=26971)"
   ]
  },
  {
   "cell_type": "code",
   "execution_count": null,
   "id": "3256d017-2366-4f9b-9171-d780cbd5561c",
   "metadata": {},
   "outputs": [],
   "source": []
  },
  {
   "cell_type": "code",
   "execution_count": null,
   "id": "634bff3f-2c6d-4dc8-89ae-f2befd028b39",
   "metadata": {},
   "outputs": [],
   "source": []
  },
  {
   "cell_type": "markdown",
   "id": "974d23df-a811-4616-a718-ccf3162f6b8f",
   "metadata": {},
   "source": [
    "<span style =\"font-size: 18px; font-weight: bold;color: #43556A;\">\n",
    "        1. Create POI features\n",
    "</span>\n",
    "<hr style=\"color: #8EB944; height: 1px;background-color: #43556A;border: none\">\n"
   ]
  },
  {
   "cell_type": "markdown",
   "id": "4879a197-ef62-4d75-bb4c-bfdbd5398c1d",
   "metadata": {},
   "source": [
    "<span style =\"font-size: 18px; font-weight: bold;color: #43556A;\">\n",
    "        1.1 Distance to closest airport"
   ]
  },
  {
   "cell_type": "code",
   "execution_count": 12,
   "id": "1cc5e584-97cd-462d-9bad-6f276040e7d9",
   "metadata": {},
   "outputs": [],
   "source": [
    "# Project the locations of the airports to a crs better fitted for calculating distances (in North America)\n",
    "airports = poi_gdf[poi_gdf.Category=='Airport'].to_crs(epsg=26971)"
   ]
  },
  {
   "cell_type": "markdown",
   "id": "5296cd9f-c16b-4dba-8688-a697f31ba11c",
   "metadata": {},
   "source": [
    "<span style =\"font-size: 16px; font-weight: bold;color: #43556A;\">\n",
    "        Calculate distance to each airport for each census tract centroid and choose the minimum"
   ]
  },
  {
   "cell_type": "code",
   "execution_count": 13,
   "id": "e5cf4937-df8c-451c-bd96-a50b4c45720c",
   "metadata": {},
   "outputs": [],
   "source": [
    "# calculate the distance to the closest airport in chicago in metres for each heexagon centroid\n",
    "feature_map['min_dist_airport'] = feature_map.centroid.apply(lambda x: airports.distance(x).round().min())"
   ]
  },
  {
   "cell_type": "code",
   "execution_count": null,
   "id": "b23749e4-1c93-45cd-acc1-75cc9c1b7714",
   "metadata": {},
   "outputs": [],
   "source": []
  },
  {
   "cell_type": "markdown",
   "id": "0974ea4f-eac9-4b84-ada5-b4b5eba4e685",
   "metadata": {},
   "source": [
    "<span style =\"font-size: 18px; font-weight: bold;color: #43556A;\">\n",
    "        1.2 Count the number of hotels in each census tract"
   ]
  },
  {
   "cell_type": "markdown",
   "id": "beac4b8d-059f-4112-b08f-1a47350bfd0e",
   "metadata": {},
   "source": [
    "<span style =\"font-size: 16px; font-weight: bold;color: #43556A;\">\n",
    "        Create a geoSeries with the locations of the hotels in chicago \n"
   ]
  },
  {
   "cell_type": "code",
   "execution_count": 14,
   "id": "ba61ee2d-36c3-4caf-b864-665b8bea0fc1",
   "metadata": {},
   "outputs": [],
   "source": [
    "hotels = poi_gdf[poi_gdf.Category=='Hotel']"
   ]
  },
  {
   "cell_type": "code",
   "execution_count": 15,
   "id": "8c332365-a980-436d-873b-df939fd4649d",
   "metadata": {},
   "outputs": [],
   "source": [
    "# we must change the geometry of the feature_map to the polygon for the spatial join\n",
    "feature_map.set_geometry('geometry_hex', inplace=True)\n",
    "\n",
    "feature_map.set_crs('EPSG:4326', inplace=True) \n",
    "\n",
    "# find all the hexagons that have hotels in it\n",
    "hotels_in_hex = gpd.sjoin(hotels, feature_map, how='inner', predicate='within')"
   ]
  },
  {
   "cell_type": "code",
   "execution_count": 16,
   "id": "54b0c847-2ecd-477b-bb25-64b2321c4f05",
   "metadata": {},
   "outputs": [],
   "source": [
    "# count the number of hotels in each census tract\n",
    "hotel_counter = dict(hotels_in_hex['h3_hex_id'].value_counts())"
   ]
  },
  {
   "cell_type": "markdown",
   "id": "31c272ef-a4be-406f-8519-16e05640476d",
   "metadata": {},
   "source": [
    "<span style =\"font-size: 16px; font-weight: bold;color: #43556A;\">\n",
    "        Add the number of hotels in the respective census tract "
   ]
  },
  {
   "cell_type": "code",
   "execution_count": 17,
   "id": "6ecaaed3-f696-4c82-bdec-6177d466bab3",
   "metadata": {},
   "outputs": [],
   "source": [
    "feature_map['num_hotels'] = feature_map.h3_hex_id\t.apply(lambda x: hotel_counter[x] \\\n",
    "                                                     if x in hotel_counter else 0)"
   ]
  },
  {
   "cell_type": "markdown",
   "id": "fd8fe598-1b4f-4ca9-b4a8-b7765f36a409",
   "metadata": {},
   "source": [
    "<span style =\"font-size: 18px; font-weight: bold;color: #43556A;\">\n",
    "        1.3 Count the number of bars/clubs in each census tract\n"
   ]
  },
  {
   "cell_type": "markdown",
   "id": "d8054a8b-c0ba-46e0-aa85-21fd8fd0b81b",
   "metadata": {},
   "source": [
    "<span style =\"font-size: 16px; font-weight: bold;color: #43556A;\">\n",
    "        Create a geoSeries with the locations of the bars/clubs in chicago \n"
   ]
  },
  {
   "cell_type": "code",
   "execution_count": 18,
   "id": "2792b29c-e557-4224-9fff-bcf222e6d231",
   "metadata": {},
   "outputs": [],
   "source": [
    "bars_clubs = poi_gdf[poi_gdf.Category=='Bar/ Night Club']"
   ]
  },
  {
   "cell_type": "code",
   "execution_count": 19,
   "id": "0e86f3e2-b338-43fd-ae60-909fb036f19a",
   "metadata": {},
   "outputs": [],
   "source": [
    "# find all the hexagons that have bars/clubs in it\n",
    "bar_club_in_hex = gpd.sjoin(bars_clubs, feature_map, how='inner', predicate='within')\n",
    "\n",
    "\n",
    "# count the number of bars/clubs in each hexagon\n",
    "bar_club_counter = dict(bar_club_in_hex['h3_hex_id'].value_counts())"
   ]
  },
  {
   "cell_type": "markdown",
   "id": "74984cef-bfcd-407d-8690-f516874659c2",
   "metadata": {},
   "source": [
    "<span style =\"font-size: 16px; font-weight: bold;color: #43556A;\">\n",
    "        Add the number of bars/clubs in the respective census tract to each ride "
   ]
  },
  {
   "cell_type": "code",
   "execution_count": 20,
   "id": "721174c3-7b75-4a9a-9f7c-a3ccfc34c575",
   "metadata": {},
   "outputs": [],
   "source": [
    "feature_map['num_bars'] = feature_map.h3_hex_id.apply(lambda x: bar_club_counter[x] \\\n",
    "                                                     if x in bar_club_counter else 0)"
   ]
  },
  {
   "cell_type": "markdown",
   "id": "74d29d75-c413-491f-9ee9-4040f111719f",
   "metadata": {},
   "source": [
    "<span style =\"font-size: 18px; font-weight: bold;color: #43556A;\">\n",
    "        1.4 Count the number of stadiums in each census tract\n"
   ]
  },
  {
   "cell_type": "markdown",
   "id": "27024bcb-340e-4ecf-8e55-438cc7d5e0fc",
   "metadata": {},
   "source": [
    "We did not filter out the smaller stadiums which obviously should explain fewer rides as the stadium of the chicago bears or chicago cubs. However, when looking at the heat map with the POI locations, the stadiums seems to be a weak predictor for taxi rides. "
   ]
  },
  {
   "cell_type": "code",
   "execution_count": 21,
   "id": "835be112-fe48-4e64-a74f-c73a31175bb1",
   "metadata": {},
   "outputs": [],
   "source": [
    "stadiums = poi_gdf[poi_gdf.Category=='Stadium']"
   ]
  },
  {
   "cell_type": "code",
   "execution_count": 22,
   "id": "668217a6-9afc-432a-8245-4ce7317ddd43",
   "metadata": {},
   "outputs": [],
   "source": [
    "# find all the hexagons that have stadiums in it\n",
    "stadiums_in_hex = gpd.sjoin(stadiums, feature_map, how='inner', predicate='within')\n",
    "\n",
    "\n",
    "\n",
    "# count the number of stadiums in each census tract\n",
    "stadium_counter = dict(stadiums_in_hex['h3_hex_id'].value_counts())"
   ]
  },
  {
   "cell_type": "markdown",
   "id": "8f5d0724-6274-4471-8fa4-d80c3af1032b",
   "metadata": {},
   "source": [
    "<span style =\"font-size: 16px; font-weight: bold;color: #43556A;\">\n",
    "        Add the number of stadiums in the respective census tract to each ride "
   ]
  },
  {
   "cell_type": "code",
   "execution_count": 23,
   "id": "5c1d079c-682e-4e4b-81a3-cefc802ab794",
   "metadata": {},
   "outputs": [],
   "source": [
    "feature_map['num_stadiums'] = feature_map.h3_hex_id.apply(lambda x: stadium_counter[x] \\\n",
    "                                                     if x in stadium_counter else 0)"
   ]
  },
  {
   "cell_type": "markdown",
   "id": "b23a3358-2f38-4556-9928-22f414208355",
   "metadata": {},
   "source": [
    "<span style =\"font-size: 18px; font-weight: bold;color: #43556A;\">\n",
    "        1.5 Calculate the distance from the city centre\n"
   ]
  },
  {
   "cell_type": "markdown",
   "id": "25648aa8-8cae-4751-8b72-92ce8df6dc4a",
   "metadata": {},
   "source": [
    "The centre or downtown chicago is in the community area 32 called loop. This information was retrieved from: https://www.chicago.gov/content/dam/city/depts/doit/general/GIS/Chicago_Maps/Citywide_Maps/Community_Areas_W_Numbers.pdf and https://de.wikipedia.org/wiki/Chicago_Loop.\n",
    "We visualized the community areas to verify that the 32 commarea actually matches the shape of the loop community area. Use census[census.commarea=='32'].plot() to check this.\n"
   ]
  },
  {
   "cell_type": "code",
   "execution_count": 25,
   "id": "3cc926e8-5786-44d7-8f42-fb6316b656d3",
   "metadata": {},
   "outputs": [],
   "source": [
    "# index the community area 32 to get the census tracts that lie within that\n",
    "# also project to a crs that is suited for calculating distances\n",
    "loop = census_gdf[census_gdf.commarea=='32'].to_crs(epsg=26971)"
   ]
  },
  {
   "cell_type": "markdown",
   "id": "7bef34e3-33ea-4b67-a2eb-8d6dc20d1c9f",
   "metadata": {},
   "source": [
    "<span style =\"font-size: 18px; font-weight: bold;color: #43556A;\">\n",
    "        Calculate distance to census tract in chicago downtown for each census tract centroid and choose the minimum"
   ]
  },
  {
   "cell_type": "markdown",
   "id": "86f5f115-c646-418b-9497-b32970606d55",
   "metadata": {},
   "source": [
    "We can reuse the projected unique locations that were used to calculate the distances to the airports. We we define the distance to the centre as the minimum distance to one of the census tracts that are within the community area 32 which is chicago downtown.\n"
   ]
  },
  {
   "cell_type": "code",
   "execution_count": 26,
   "id": "26e380d9-4b6b-42f8-bd39-637667aba9b3",
   "metadata": {},
   "outputs": [],
   "source": [
    "# we must change the geometry of the feature_map to the centroid for the distance calculation\n",
    "feature_map.set_geometry('centroid', inplace=True)\n",
    "\n",
    "# reset the crs\n",
    "feature_map.set_crs('EPSG:26971', inplace=True) \n",
    "\n",
    "# calculate the distance to the city centre in metres for each hexagon centroid\n",
    "feature_map['dist_centre'] = feature_map.centroid.apply(lambda x: loop.distance(x).round().min())"
   ]
  },
  {
   "cell_type": "code",
   "execution_count": null,
   "id": "48ba3731-c6a9-4cc3-936f-8d0f66bb081d",
   "metadata": {},
   "outputs": [],
   "source": []
  },
  {
   "cell_type": "markdown",
   "id": "08421073-d07d-4884-8449-50b6f4fb6e8c",
   "metadata": {},
   "source": [
    "<span style =\"font-size: 18px; font-weight: bold;color: #43556A;\">\n",
    "        2. Create land use  features\n",
    "</span>\n",
    "<hr style=\"color: #8EB944; height: 1px;background-color: #43556A;border: none\">"
   ]
  },
  {
   "cell_type": "markdown",
   "id": "23a10b77-2e7b-4e2e-b58f-43d60a584c2b",
   "metadata": {},
   "source": [
    "We do not intend to create a feature for each of the 11 landuse categories. Instad, we pick 4 categories that may explain high or low demand census tracts. Large areas of \"open space\" correspond to a lower population density, unlike census tracts with a high percentage of \"residential\" buildings. As \"commercial\" parcels include shopping malls and hotels, they may be a good predictor for high demand census tracts. The same may apply to \"transportation/communication/utilities\" parcels, which include airports and train stations. However, they also include landfill, which should be poor predictors of taxi trips. Adding features with a higher resolution would yield better outcomes, but is too computationally expensive in this project."
   ]
  },
  {
   "cell_type": "markdown",
   "id": "66335bf6-16cf-4c1d-8ef7-3a99a0115fb8",
   "metadata": {},
   "source": [
    "<span style =\"font-size: 16px; font-weight: bold;color: #43556A;\">\n",
    "        2.1 Create a dictionary with landuse percentages per census tract\n"
   ]
  },
  {
   "cell_type": "markdown",
   "id": "7fc26a67-c9e7-4ca9-8dd0-e0acff71af02",
   "metadata": {},
   "source": [
    "We create a dictionary containing the percentage of area usage for each of the categories. We do this so that we need not calculate the area usage 14 million times, which would be computationally expensive."
   ]
  },
  {
   "cell_type": "code",
   "execution_count": 27,
   "id": "6ae645be-1a3f-4cab-9334-c1933069f641",
   "metadata": {},
   "outputs": [],
   "source": [
    "# change the crs of the landuse data such that it matches the other data\n",
    "landuse_gdf.to_crs(epsg=26971, inplace=True)"
   ]
  },
  {
   "cell_type": "code",
   "execution_count": 28,
   "id": "5d113bdc-1102-4643-a885-1de52146cde2",
   "metadata": {},
   "outputs": [],
   "source": [
    "# create a dictionary that maps the census tract id to the hexagon id\n",
    "census_hex_dict = df_unique_hex.set_index('census')['h3_hex_id'].to_dict()"
   ]
  },
  {
   "cell_type": "code",
   "execution_count": 29,
   "id": "47ed76dd-ad60-465c-b86a-d2571f0e9c0b",
   "metadata": {},
   "outputs": [],
   "source": [
    "# get the hexagon id for each parcel in the landuse geodataframe\n",
    "\n",
    "landuse_gdf['hex_id'] = landuse_gdf.geoid10.apply(lambda x: census_hex_dict[int(x)] \\\n",
    "                                                 if int(x) in census_hex_dict\n",
    "                                                 else None)"
   ]
  },
  {
   "cell_type": "code",
   "execution_count": 30,
   "id": "a2575853-7e62-4d07-a6d3-09a0e8318cb8",
   "metadata": {},
   "outputs": [],
   "source": [
    "# calculate the area for each parcel\n",
    "landuse_gdf['area'] = landuse_gdf['geometry'].area"
   ]
  },
  {
   "cell_type": "code",
   "execution_count": 31,
   "id": "17472080-6805-4e98-97bf-3aaf388993e4",
   "metadata": {},
   "outputs": [],
   "source": [
    "# Group by hexagon id and land use category to sum the areas (also reset the indexes)\n",
    "landuse_by_category = landuse_gdf.groupby(['hex_id', 'LANDUSE'])['area'].sum().reset_index()"
   ]
  },
  {
   "cell_type": "code",
   "execution_count": 32,
   "id": "4490a2bb-cf47-4e5c-963a-40e906d8b102",
   "metadata": {},
   "outputs": [],
   "source": [
    "# Calculate the total area for each census tract\n",
    "total_area = landuse_by_category.groupby('hex_id')['area'].sum().reset_index()\n",
    "\n",
    "# rename the variable\n",
    "total_area = total_area.rename(columns={'area': 'total_area'})"
   ]
  },
  {
   "cell_type": "code",
   "execution_count": 33,
   "id": "46a1d582-c2e5-4784-9f36-07021301f2a1",
   "metadata": {},
   "outputs": [],
   "source": [
    "# Merge total_area with landuse_by_category and calculate the percentage\n",
    "landuse_by_category = landuse_by_category.merge(total_area, on='hex_id')\n",
    "\n",
    "# divide the area for each parcel by the area of the hexagon is is within\n",
    "landuse_by_category['percentage'] = ((landuse_by_category['area'] / landuse_by_category['total_area'])*100).round(2)\n",
    "\n",
    "# Create a dictionary to store results\n",
    "landuse_dict = {}\n",
    "\n",
    "# Populate the dictionary with the data\n",
    "for _, row in landuse_by_category.iterrows():\n",
    "    geoid = row['hex_id']\n",
    "    landuse = row['LANDUSE']\n",
    "    percentage = row['percentage']\n",
    "    \n",
    "    if geoid not in landuse_dict:\n",
    "        landuse_dict[geoid] = {}\n",
    "    \n",
    "    landuse_dict[geoid][landuse] = percentage"
   ]
  },
  {
   "cell_type": "markdown",
   "id": "0089b652-00da-4710-99d5-0d4988e5d526",
   "metadata": {},
   "source": [
    "<span style =\"font-size: 16px; font-weight: bold;color: #43556A;\">\n",
    "        2.2 Percentage of residential areas in a census tract\n"
   ]
  },
  {
   "cell_type": "code",
   "execution_count": 34,
   "id": "0993cb53-b230-4bb5-8e8b-1f56e84bcd60",
   "metadata": {},
   "outputs": [],
   "source": [
    "# get the percentage of residential area for each hexagon\n",
    "feature_map['perc_resid'] = feature_map.h3_hex_id.apply(lambda x: landuse_dict[x]['RESIDENTIAL'] \\\n",
    "                                                    if 'RESIDENTIAL' in landuse_dict[x]\\\n",
    "                                                    else 0.0)\n",
    "                                                     "
   ]
  },
  {
   "cell_type": "markdown",
   "id": "04660e49-f71b-44d2-af9b-2c881d45e409",
   "metadata": {},
   "source": [
    "<span style =\"font-size: 16px; font-weight: bold;color: #43556A;\">\n",
    "        2.3 Percentage of open space areas in a census tract\n"
   ]
  },
  {
   "cell_type": "code",
   "execution_count": 35,
   "id": "197d060a-e638-459f-9a6a-66c58724edc8",
   "metadata": {},
   "outputs": [],
   "source": [
    "# get the percentage of open area for each hexagon\n",
    "feature_map['perc_open'] = feature_map.h3_hex_id.apply(lambda x: landuse_dict[x]['OPEN SPACE'] \\\n",
    "                                                    if 'OPEN SPACE' in landuse_dict[x]\\\n",
    "                                                    else 0.0)\n",
    "     "
   ]
  },
  {
   "cell_type": "code",
   "execution_count": null,
   "id": "93ce7609-c775-4002-a9f9-d2f2becbb9e4",
   "metadata": {},
   "outputs": [],
   "source": []
  },
  {
   "cell_type": "markdown",
   "id": "6fd63389-50d7-47b8-95d5-7cfbc21f3b41",
   "metadata": {},
   "source": [
    "<span style =\"font-size: 16px; font-weight: bold;color: #43556A;\">\n",
    "        2.4 Percentage of open commercial areas in a census tract\n"
   ]
  },
  {
   "cell_type": "code",
   "execution_count": 36,
   "id": "6e47f2c9-2d11-4e4f-8238-60570836a8bf",
   "metadata": {},
   "outputs": [],
   "source": [
    "# get the percentage of commercial area for each hexagon\n",
    "feature_map['perc_commerc'] = feature_map.h3_hex_id.apply(lambda x: landuse_dict[x]['COMMERCIAL'] \\\n",
    "                                                    if 'COMMERCIAL' in landuse_dict[x]\\\n",
    "                                                    else 0.0)\n",
    "     "
   ]
  },
  {
   "cell_type": "code",
   "execution_count": null,
   "id": "6452301a-f347-4e4d-8db4-79f1f0725e73",
   "metadata": {},
   "outputs": [],
   "source": []
  },
  {
   "cell_type": "markdown",
   "id": "879749a4-dcd4-4355-bb85-ed79a1366517",
   "metadata": {},
   "source": [
    "<span style =\"font-size: 16px; font-weight: bold;color: #43556A;\">\n",
    "        2.5 Percentage of transportation/communication/utilities areas in a census tract\n"
   ]
  },
  {
   "cell_type": "code",
   "execution_count": 37,
   "id": "6943c851-536e-4483-97c0-af4160fb66c1",
   "metadata": {},
   "outputs": [],
   "source": [
    "# get the percentage of transportation/communication/utilities area for each hexagon\n",
    "feature_map['perc_transport'] = feature_map.h3_hex_id.apply(lambda x:\\\n",
    "                                                    landuse_dict[x]['TRANSPORTATION/COMMUNICATION/UTILITIES']\n",
    "                                                    if 'TRANSPORTATION/COMMUNICATION/UTILITIES' in landuse_dict[x]\\\n",
    "                                                    else 0.0)\n",
    "     "
   ]
  },
  {
   "cell_type": "code",
   "execution_count": null,
   "id": "1238d83d-e10d-4e72-9f04-ffd26f63bb0b",
   "metadata": {},
   "outputs": [],
   "source": []
  },
  {
   "cell_type": "code",
   "execution_count": 44,
   "id": "1ac22a5c-58a5-4353-b7bc-5d700094033c",
   "metadata": {},
   "outputs": [],
   "source": [
    "# we must change the geometry of the feature_map to the polygon for the spatial join\n",
    "feature_map.set_geometry('geometry_hex', inplace=True)\n",
    "\n",
    "feature_map.set_crs('EPSG:4326', inplace=True) \n",
    "\n",
    "feature_map.drop(columns=['census', 'centroid'], inplace=True)"
   ]
  },
  {
   "cell_type": "code",
   "execution_count": 45,
   "id": "a22601f4-eacc-4a11-8b09-619a39fdd614",
   "metadata": {},
   "outputs": [],
   "source": [
    "# write feature map to geojson file (change the crs to the original one)\n",
    "feature_map.to_crs(epsg=4326).to_file('spatial_features.geojson')"
   ]
  },
  {
   "cell_type": "code",
   "execution_count": null,
   "id": "ece178a3-6ca0-4758-9ba0-41bf6feb6ed7",
   "metadata": {},
   "outputs": [],
   "source": []
  },
  {
   "cell_type": "markdown",
   "id": "bbbd1616-fc36-45fc-ba55-7ff0d7d0a60e",
   "metadata": {},
   "source": [
    "<span style =\"font-size: 18px; font-weight: bold;color: #43556A;\">\n",
    "        3. Create weather  features\n",
    "</span>\n",
    "<hr style=\"color: #8EB944; height: 1px;background-color: #43556A;border: none\">"
   ]
  },
  {
   "cell_type": "code",
   "execution_count": null,
   "id": "202fe0a1-9cb6-4fda-ab40-5f348da131bb",
   "metadata": {},
   "outputs": [],
   "source": []
  },
  {
   "cell_type": "code",
   "execution_count": null,
   "id": "57a17250-ab4e-49f4-8a63-acc710cf36b4",
   "metadata": {},
   "outputs": [],
   "source": []
  },
  {
   "cell_type": "code",
   "execution_count": null,
   "id": "d61d987b-d8c4-471d-b986-c8aa3f5f2f94",
   "metadata": {},
   "outputs": [],
   "source": []
  }
 ],
 "metadata": {
  "kernelspec": {
   "display_name": "fullstack",
   "language": "python",
   "name": "fullstack"
  },
  "language_info": {
   "codemirror_mode": {
    "name": "ipython",
    "version": 3
   },
   "file_extension": ".py",
   "mimetype": "text/x-python",
   "name": "python",
   "nbconvert_exporter": "python",
   "pygments_lexer": "ipython3",
   "version": "3.9.13"
  }
 },
 "nbformat": 4,
 "nbformat_minor": 5
}
