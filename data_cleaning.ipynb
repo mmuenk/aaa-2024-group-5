{
 "cells": [
  {
   "cell_type": "code",
   "execution_count": 1,
   "id": "14ebb91d-56bb-4405-9203-2ec04df2e1e7",
   "metadata": {},
   "outputs": [],
   "source": [
    "import pandas as pd\n",
    "from pandas import Timedelta\n",
    "import numpy as np\n",
    "import re"
   ]
  },
  {
   "cell_type": "markdown",
   "id": "ecf9923c-308f-4e36-8d88-9b48abd63158",
   "metadata": {},
   "source": [
    "<div class=\"alert alert-block alert-warning\">\n",
    "<b>Disclaimer:</b> Note that the data we already pre-cleaned with the command line tool miller. Read the documentation provided to see what was done there.\n",
    "</div>"
   ]
  },
  {
   "cell_type": "markdown",
   "id": "05a514bc-45a6-42a2-a2f3-455c91824dea",
   "metadata": {},
   "source": [
    "<span style =\"font-size: 18px; font-weight: bold;color: #43556A;\">\n",
    "        Load the data in chunks\n",
    "</span>\n",
    "<hr style=\"color: #8EB944; height: 1px;background-color: #43556A;border: none\">"
   ]
  },
  {
   "cell_type": "code",
   "execution_count": 12,
   "id": "064d2567-3cb1-4cdf-ae20-61722218b97b",
   "metadata": {},
   "outputs": [],
   "source": [
    "# Create an empty list to hold the chunks\n",
    "chunks = []\n",
    "\n",
    "# Load chunks of size 100.000\n",
    "for chunk in pd.read_csv('taxi_main.csv', chunksize=100000):\n",
    "    chunks.append(chunk)\n",
    "\n",
    "# Concatenate all chunks \n",
    "df = pd.concat(chunks, ignore_index=True)"
   ]
  },
  {
   "cell_type": "markdown",
   "id": "84dfd9fc-a27b-4891-98c6-7c19eb084ab9",
   "metadata": {},
   "source": [
    "<div>\n",
    "    <span style =\"font-size: 40px; font-weight: bold; color: #8EB944\">\n",
    "        Formatting\n",
    "    </span>\n",
    "    \n",
    "<hr style=\"color: #8EB944; height: 3px;background-color: #8EB944;border: none\">\n",
    "</div>"
   ]
  },
  {
   "cell_type": "markdown",
   "id": "d45ce560-73be-41b3-b6d5-314887720521",
   "metadata": {},
   "source": [
    "<span style =\"font-size: 18px; font-weight: bold;color: #43556A;\">\n",
    "        1. Map the Taxi Id's to numeric values\n",
    "</span>\n",
    "<hr style=\"color: #8EB944; height: 1px;background-color: #43556A;border: none\">"
   ]
  },
  {
   "cell_type": "code",
   "execution_count": 13,
   "id": "d94bf03c-509a-40fa-9d68-c3cd563513a1",
   "metadata": {},
   "outputs": [],
   "source": [
    "taxi_id_map = dict(zip(df['Taxi ID'].unique(),range(len(df['Taxi ID'].unique() ))))\n",
    "df['Taxi ID'] = df['Taxi ID'].apply(lambda x: taxi_id_map[x])"
   ]
  },
  {
   "cell_type": "code",
   "execution_count": null,
   "id": "b7150f08-9256-41ad-ab21-de9dca22bffa",
   "metadata": {},
   "outputs": [],
   "source": []
  },
  {
   "cell_type": "markdown",
   "id": "f4963110-5ef2-473b-a9a8-55b549ab5752",
   "metadata": {},
   "source": [
    "<span style =\"font-size: 18px; font-weight: bold;color: #43556A;\">\n",
    "        2. Reduce the precision of the GPS data for consistency\n",
    "</span>\n",
    "<hr style=\"color: #8EB944; height: 1px;background-color: #43556A;border: none\">"
   ]
  },
  {
   "cell_type": "markdown",
   "id": "6b116f1a-0b3a-481e-b84c-154a6b88ac41",
   "metadata": {},
   "source": [
    "We reduce the GPS coordinates to 10 digits for now, as this is the minimum precision all points have. We can reuse the function later to reduce the precision to 6 or 7 digits for the neural networks."
   ]
  },
  {
   "cell_type": "code",
   "execution_count": 14,
   "id": "7f2692c7-c418-4888-acad-9d139ac9723b",
   "metadata": {},
   "outputs": [],
   "source": [
    "# use pythons regular expressions to find all the seperating '.' in a Point object. Then truncate both coordinates after 10 digits.\n",
    "\n",
    "def format_point(point):\n",
    "    if isinstance(point, str):  \n",
    "        # Extract the numbers\n",
    "        matches = re.findall(r'(-?\\d+\\.\\d+)', point)\n",
    "        \n",
    "        # If there exactly two coordinates with a '.' , we can truncate the coordinates to 10 digits.\n",
    "        if matches and len(matches) == 2:\n",
    "            lon, lat = matches\n",
    "            # Truncate to 10 decimal places\n",
    "            lon = lon[:lon.index('.') + 11]\n",
    "            lat = lat[:lat.index('.') + 11]\n",
    "            return f\"POINT ({lon} {lat})\"\n",
    "    return point"
   ]
  },
  {
   "cell_type": "code",
   "execution_count": 15,
   "id": "b06de945-a715-4e00-a688-ed22e371a071",
   "metadata": {},
   "outputs": [],
   "source": [
    "df.loc[:, 'Pickup Centroid Location'] = df['Pickup Centroid Location'].apply(format_point)\n",
    "df.loc[:, 'Dropoff Centroid  Location'] = df['Dropoff Centroid  Location'].apply(format_point)"
   ]
  },
  {
   "cell_type": "code",
   "execution_count": null,
   "id": "585d1f19-d9c8-4792-9303-3187029fcb68",
   "metadata": {},
   "outputs": [],
   "source": []
  },
  {
   "cell_type": "markdown",
   "id": "e1787bb5-f9a9-4992-bc82-b512e6799170",
   "metadata": {},
   "source": [
    "<span style =\"font-size: 18px; font-weight: bold;color: #43556A;\">\n",
    "        3. Change the datatype of the timestamps\n",
    "</span>\n",
    "<hr style=\"color: #8EB944; height: 1px;background-color: #43556A;border: none\">"
   ]
  },
  {
   "cell_type": "code",
   "execution_count": 16,
   "id": "48b66ad7-e03d-4ac6-aa9d-854fb61fcd63",
   "metadata": {},
   "outputs": [],
   "source": [
    "# Convert columns to datetime\n",
    "df['Trip Start Timestamp'] = pd.to_datetime(df['Trip Start Timestamp'])\n",
    "df['Trip End Timestamp'] = pd.to_datetime(df['Trip End Timestamp'])"
   ]
  },
  {
   "cell_type": "code",
   "execution_count": null,
   "id": "70813bb4-2961-48fa-849d-a9daa472d5fa",
   "metadata": {},
   "outputs": [],
   "source": []
  },
  {
   "cell_type": "markdown",
   "id": "09525408-5274-4f95-be74-93938028658a",
   "metadata": {},
   "source": [
    "<span style =\"font-size: 18px; font-weight: bold;color: #43556A;\">\n",
    "        4. Change the datatype of the Census Tracts\n",
    "</span>\n",
    "<hr style=\"color: #8EB944; height: 1px;background-color: #43556A;border: none\">"
   ]
  },
  {
   "cell_type": "code",
   "execution_count": 17,
   "id": "69d3cb75-3fef-4ef7-afa4-5f8c093ab79a",
   "metadata": {},
   "outputs": [],
   "source": [
    "# convert the census tracts and fill the NA's with zeros\n",
    "df['Pickup Census Tract'] = pd.to_numeric(df['Pickup Census Tract'], errors='coerce').fillna(0).astype('Int64')\n",
    "df['Dropoff Census Tract'] = pd.to_numeric(df['Dropoff Census Tract'], errors='coerce').fillna(0).astype('Int64')"
   ]
  },
  {
   "cell_type": "code",
   "execution_count": null,
   "id": "8917a030-d8a7-4080-b3ea-41b97d45c921",
   "metadata": {},
   "outputs": [],
   "source": []
  },
  {
   "cell_type": "markdown",
   "id": "e8914952-6ea9-44b8-bbe2-051702bbef6d",
   "metadata": {},
   "source": [
    "<span style =\"font-size: 18px; font-weight: bold;color: #43556A;\">\n",
    "        5. Check whether Census Tracts can be used to fill missing location values\n",
    "        </span>\n",
    "<hr style=\"color: #8EB944; height: 1px;background-color: #43556A;border: none\">"
   ]
  },
  {
   "cell_type": "markdown",
   "id": "a9945e2a-8481-416c-b64a-07a89f464368",
   "metadata": {},
   "source": [
    "<span style =\"font-size: 18px; font-weight: bold;color: #43556A;\">\n",
    "        5.1 Drop rides that started outside of the city of chicago\n"
   ]
  },
  {
   "cell_type": "markdown",
   "id": "18ae4643-20c9-4ead-b14d-7219ae4a3711",
   "metadata": {},
   "source": [
    "Before checking whether we can use the Pickup Census Tracts to fill missing location values, we should first get rid of rides that started outside the boundaries of the city of chicago, as these can be seen as spatial outliers."
   ]
  },
  {
   "cell_type": "code",
   "execution_count": 18,
   "id": "b78d1ccb-c1d4-455b-9828-78f9f0f5a5c5",
   "metadata": {},
   "outputs": [],
   "source": [
    "## Download the census tracts for 2010 and put the GEOID's of the census tracts as a list\n",
    "# get census tracts from: https://data.cityofchicago.org/Facilities-Geographic-Boundaries/Boundaries-Census-Tracts-2010/5jrd-6zik #\n",
    "valid_census = pd.read_csv(\"cens.csv\")[\"GEOID10\"].values"
   ]
  },
  {
   "cell_type": "code",
   "execution_count": 20,
   "id": "201335c8-317a-4335-b624-afd91ac3e7c6",
   "metadata": {},
   "outputs": [],
   "source": [
    "# filter the indexes where the ride has a pickup census tract that is close to- but outside of the city\n",
    "outside_idx = df[(~ df['Pickup Census Tract'].isin(valid_census)) & (df['Pickup Census Tract']!=0)].index\n",
    "\n",
    "# drop rides\n",
    "df.drop(outside_idx, inplace = True)"
   ]
  },
  {
   "cell_type": "code",
   "execution_count": 21,
   "id": "61d9f861-5425-41d6-a375-f0f4b37c01a8",
   "metadata": {},
   "outputs": [
    {
     "data": {
      "text/plain": [
       "8585"
      ]
     },
     "execution_count": 21,
     "metadata": {},
     "output_type": "execute_result"
    }
   ],
   "source": [
    "len(outside_idx)"
   ]
  },
  {
   "cell_type": "markdown",
   "id": "a2302afd-780f-446b-8a02-271f566d9e97",
   "metadata": {},
   "source": [
    "We could use the same logic to filter out the rides that ended in census tracts that are just outside the city. There are roughly 72000 of these  rides, but we decide to keep them, because we are more interest in the demand of rides i.e. the pickup locations. Additionally, we did not drop the rides that have no dropoff location of dropoff census tract."
   ]
  },
  {
   "cell_type": "markdown",
   "id": "eaf73845-e820-4f97-a139-41bfcf18d05d",
   "metadata": {},
   "source": [
    "\n",
    "<span style =\"font-size: 18px; font-weight: bold;color: #43556A;\">\n",
    "        5.2 Check utility of Pickup Census Tracts"
   ]
  },
  {
   "cell_type": "markdown",
   "id": "9be29c98-773d-4308-9793-2fc4ea09de7a",
   "metadata": {},
   "source": [
    "We need to check whether there are instances where there was a truthy value for the 'Pickup Census Tract' and a missing values for the 'Pickup Centroid Location'. If this were the case, we could use the Pickup Census Tracts to map the missing Pickup Locations."
   ]
  },
  {
   "cell_type": "code",
   "execution_count": 22,
   "id": "81fc8321-037b-4743-b87d-6ad23f66640c",
   "metadata": {},
   "outputs": [
    {
     "data": {
      "text/html": [
       "<div>\n",
       "<style scoped>\n",
       "    .dataframe tbody tr th:only-of-type {\n",
       "        vertical-align: middle;\n",
       "    }\n",
       "\n",
       "    .dataframe tbody tr th {\n",
       "        vertical-align: top;\n",
       "    }\n",
       "\n",
       "    .dataframe thead th {\n",
       "        text-align: right;\n",
       "    }\n",
       "</style>\n",
       "<table border=\"1\" class=\"dataframe\">\n",
       "  <thead>\n",
       "    <tr style=\"text-align: right;\">\n",
       "      <th></th>\n",
       "      <th>Taxi ID</th>\n",
       "      <th>Trip Start Timestamp</th>\n",
       "      <th>Trip End Timestamp</th>\n",
       "      <th>Trip Seconds</th>\n",
       "      <th>Trip Miles</th>\n",
       "      <th>Pickup Census Tract</th>\n",
       "      <th>Dropoff Census Tract</th>\n",
       "      <th>Fare</th>\n",
       "      <th>Pickup Centroid Location</th>\n",
       "      <th>Dropoff Centroid  Location</th>\n",
       "    </tr>\n",
       "  </thead>\n",
       "  <tbody>\n",
       "  </tbody>\n",
       "</table>\n",
       "</div>"
      ],
      "text/plain": [
       "Empty DataFrame\n",
       "Columns: [Taxi ID, Trip Start Timestamp, Trip End Timestamp, Trip Seconds, Trip Miles, Pickup Census Tract, Dropoff Census Tract, Fare, Pickup Centroid Location, Dropoff Centroid  Location]\n",
       "Index: []"
      ]
     },
     "execution_count": 22,
     "metadata": {},
     "output_type": "execute_result"
    }
   ],
   "source": [
    "df[(df['Pickup Centroid Location'].isna()) & (df['Pickup Census Tract']!=0)]"
   ]
  },
  {
   "cell_type": "markdown",
   "id": "a055130f-8b95-400a-9bbd-c53f082feb55",
   "metadata": {},
   "source": [
    "Since this filter is empty, we can drop the Pickup Census Tract Column, as there is a 1:1 relationship between the census tracts and the centroid location. Keeping the pickiup census tracts, wouldnt gain any additional information and the GPS data are needed. "
   ]
  },
  {
   "cell_type": "code",
   "execution_count": null,
   "id": "f0e78fe0-ec3a-4937-9aa7-1aea75a56b47",
   "metadata": {},
   "outputs": [],
   "source": []
  },
  {
   "cell_type": "markdown",
   "id": "cd7d564f-a2eb-4076-b0a8-881a00499106",
   "metadata": {},
   "source": [
    "<span style =\"font-size: 18px; font-weight: bold;color: #43556A;\">\n",
    "        5.3 Check utility of Dropoff Census Tracts"
   ]
  },
  {
   "cell_type": "markdown",
   "id": "5ea093d5-16c6-404f-9c10-8f51c7979170",
   "metadata": {},
   "source": [
    "Let us apply a similiar filter to see whether we can use 'Dropoff Census Tract's to fill some missing 'Dropoff Centroid Location' values."
   ]
  },
  {
   "cell_type": "code",
   "execution_count": 23,
   "id": "2cb2d4f7-b680-497c-a890-b16f72d4d1ab",
   "metadata": {},
   "outputs": [
    {
     "data": {
      "text/html": [
       "<div>\n",
       "<style scoped>\n",
       "    .dataframe tbody tr th:only-of-type {\n",
       "        vertical-align: middle;\n",
       "    }\n",
       "\n",
       "    .dataframe tbody tr th {\n",
       "        vertical-align: top;\n",
       "    }\n",
       "\n",
       "    .dataframe thead th {\n",
       "        text-align: right;\n",
       "    }\n",
       "</style>\n",
       "<table border=\"1\" class=\"dataframe\">\n",
       "  <thead>\n",
       "    <tr style=\"text-align: right;\">\n",
       "      <th></th>\n",
       "      <th>Taxi ID</th>\n",
       "      <th>Trip Start Timestamp</th>\n",
       "      <th>Trip End Timestamp</th>\n",
       "      <th>Trip Seconds</th>\n",
       "      <th>Trip Miles</th>\n",
       "      <th>Pickup Census Tract</th>\n",
       "      <th>Dropoff Census Tract</th>\n",
       "      <th>Fare</th>\n",
       "      <th>Pickup Centroid Location</th>\n",
       "      <th>Dropoff Centroid  Location</th>\n",
       "    </tr>\n",
       "  </thead>\n",
       "  <tbody>\n",
       "    <tr>\n",
       "      <th>8079</th>\n",
       "      <td>672</td>\n",
       "      <td>2019-01-01 03:00:00</td>\n",
       "      <td>2019-01-01 03:45:00</td>\n",
       "      <td>2820.0</td>\n",
       "      <td>0.00</td>\n",
       "      <td>17031320100</td>\n",
       "      <td>17031801500</td>\n",
       "      <td>64.00</td>\n",
       "      <td>POINT (-87.6209929134 41.8849871918)</td>\n",
       "      <td>NaN</td>\n",
       "    </tr>\n",
       "    <tr>\n",
       "      <th>8598</th>\n",
       "      <td>1076</td>\n",
       "      <td>2019-01-01 03:15:00</td>\n",
       "      <td>2019-01-01 03:45:00</td>\n",
       "      <td>1800.0</td>\n",
       "      <td>1.50</td>\n",
       "      <td>17031320600</td>\n",
       "      <td>17031801500</td>\n",
       "      <td>60.75</td>\n",
       "      <td>POINT (-87.6221729369 41.8706073724)</td>\n",
       "      <td>NaN</td>\n",
       "    </tr>\n",
       "    <tr>\n",
       "      <th>16835</th>\n",
       "      <td>1928</td>\n",
       "      <td>2019-01-01 13:45:00</td>\n",
       "      <td>2019-01-01 14:00:00</td>\n",
       "      <td>548.0</td>\n",
       "      <td>4.00</td>\n",
       "      <td>17031980000</td>\n",
       "      <td>17031806600</td>\n",
       "      <td>12.75</td>\n",
       "      <td>POINT (-87.9030396611 41.9790708201)</td>\n",
       "      <td>NaN</td>\n",
       "    </tr>\n",
       "    <tr>\n",
       "      <th>17098</th>\n",
       "      <td>1764</td>\n",
       "      <td>2019-01-01 14:00:00</td>\n",
       "      <td>2019-01-01 14:00:00</td>\n",
       "      <td>577.0</td>\n",
       "      <td>3.70</td>\n",
       "      <td>17031980000</td>\n",
       "      <td>17031806600</td>\n",
       "      <td>12.00</td>\n",
       "      <td>POINT (-87.9030396611 41.9790708201)</td>\n",
       "      <td>NaN</td>\n",
       "    </tr>\n",
       "    <tr>\n",
       "      <th>20908</th>\n",
       "      <td>1712</td>\n",
       "      <td>2019-01-01 17:30:00</td>\n",
       "      <td>2019-01-01 18:15:00</td>\n",
       "      <td>2014.0</td>\n",
       "      <td>17.73</td>\n",
       "      <td>17031980000</td>\n",
       "      <td>17031800700</td>\n",
       "      <td>36.00</td>\n",
       "      <td>POINT (-87.9030396611 41.9790708201)</td>\n",
       "      <td>NaN</td>\n",
       "    </tr>\n",
       "    <tr>\n",
       "      <th>...</th>\n",
       "      <td>...</td>\n",
       "      <td>...</td>\n",
       "      <td>...</td>\n",
       "      <td>...</td>\n",
       "      <td>...</td>\n",
       "      <td>...</td>\n",
       "      <td>...</td>\n",
       "      <td>...</td>\n",
       "      <td>...</td>\n",
       "      <td>...</td>\n",
       "    </tr>\n",
       "    <tr>\n",
       "      <th>15219761</th>\n",
       "      <td>749</td>\n",
       "      <td>2019-12-30 23:45:00</td>\n",
       "      <td>2019-12-30 23:45:00</td>\n",
       "      <td>443.0</td>\n",
       "      <td>1.71</td>\n",
       "      <td>17031980100</td>\n",
       "      <td>17031820901</td>\n",
       "      <td>7.75</td>\n",
       "      <td>POINT (-87.7509342894 41.785998518)</td>\n",
       "      <td>NaN</td>\n",
       "    </tr>\n",
       "    <tr>\n",
       "      <th>15219773</th>\n",
       "      <td>3115</td>\n",
       "      <td>2019-12-30 23:45:00</td>\n",
       "      <td>2019-12-30 23:45:00</td>\n",
       "      <td>540.0</td>\n",
       "      <td>1.50</td>\n",
       "      <td>17031980100</td>\n",
       "      <td>17031820901</td>\n",
       "      <td>7.75</td>\n",
       "      <td>POINT (-87.7509342894 41.785998518)</td>\n",
       "      <td>NaN</td>\n",
       "    </tr>\n",
       "    <tr>\n",
       "      <th>15219984</th>\n",
       "      <td>968</td>\n",
       "      <td>2019-12-31 00:15:00</td>\n",
       "      <td>2019-12-31 00:30:00</td>\n",
       "      <td>420.0</td>\n",
       "      <td>1.70</td>\n",
       "      <td>17031980100</td>\n",
       "      <td>17031820901</td>\n",
       "      <td>7.50</td>\n",
       "      <td>POINT (-87.7509342894 41.785998518)</td>\n",
       "      <td>NaN</td>\n",
       "    </tr>\n",
       "    <tr>\n",
       "      <th>15220193</th>\n",
       "      <td>517</td>\n",
       "      <td>2019-12-31 00:30:00</td>\n",
       "      <td>2019-12-31 00:30:00</td>\n",
       "      <td>360.0</td>\n",
       "      <td>1.60</td>\n",
       "      <td>17031980100</td>\n",
       "      <td>17031820901</td>\n",
       "      <td>7.25</td>\n",
       "      <td>POINT (-87.7509342894 41.785998518)</td>\n",
       "      <td>NaN</td>\n",
       "    </tr>\n",
       "    <tr>\n",
       "      <th>15226185</th>\n",
       "      <td>2470</td>\n",
       "      <td>2019-12-31 11:15:00</td>\n",
       "      <td>2019-12-31 11:30:00</td>\n",
       "      <td>1200.0</td>\n",
       "      <td>16.60</td>\n",
       "      <td>17031980000</td>\n",
       "      <td>17031812900</td>\n",
       "      <td>41.00</td>\n",
       "      <td>POINT (-87.9030396611 41.9790708201)</td>\n",
       "      <td>NaN</td>\n",
       "    </tr>\n",
       "  </tbody>\n",
       "</table>\n",
       "<p>8745 rows × 10 columns</p>\n",
       "</div>"
      ],
      "text/plain": [
       "          Taxi ID Trip Start Timestamp  Trip End Timestamp  Trip Seconds  \\\n",
       "8079          672  2019-01-01 03:00:00 2019-01-01 03:45:00        2820.0   \n",
       "8598         1076  2019-01-01 03:15:00 2019-01-01 03:45:00        1800.0   \n",
       "16835        1928  2019-01-01 13:45:00 2019-01-01 14:00:00         548.0   \n",
       "17098        1764  2019-01-01 14:00:00 2019-01-01 14:00:00         577.0   \n",
       "20908        1712  2019-01-01 17:30:00 2019-01-01 18:15:00        2014.0   \n",
       "...           ...                  ...                 ...           ...   \n",
       "15219761      749  2019-12-30 23:45:00 2019-12-30 23:45:00         443.0   \n",
       "15219773     3115  2019-12-30 23:45:00 2019-12-30 23:45:00         540.0   \n",
       "15219984      968  2019-12-31 00:15:00 2019-12-31 00:30:00         420.0   \n",
       "15220193      517  2019-12-31 00:30:00 2019-12-31 00:30:00         360.0   \n",
       "15226185     2470  2019-12-31 11:15:00 2019-12-31 11:30:00        1200.0   \n",
       "\n",
       "          Trip Miles  Pickup Census Tract  Dropoff Census Tract   Fare  \\\n",
       "8079            0.00          17031320100           17031801500  64.00   \n",
       "8598            1.50          17031320600           17031801500  60.75   \n",
       "16835           4.00          17031980000           17031806600  12.75   \n",
       "17098           3.70          17031980000           17031806600  12.00   \n",
       "20908          17.73          17031980000           17031800700  36.00   \n",
       "...              ...                  ...                   ...    ...   \n",
       "15219761        1.71          17031980100           17031820901   7.75   \n",
       "15219773        1.50          17031980100           17031820901   7.75   \n",
       "15219984        1.70          17031980100           17031820901   7.50   \n",
       "15220193        1.60          17031980100           17031820901   7.25   \n",
       "15226185       16.60          17031980000           17031812900  41.00   \n",
       "\n",
       "                      Pickup Centroid Location Dropoff Centroid  Location  \n",
       "8079      POINT (-87.6209929134 41.8849871918)                        NaN  \n",
       "8598      POINT (-87.6221729369 41.8706073724)                        NaN  \n",
       "16835     POINT (-87.9030396611 41.9790708201)                        NaN  \n",
       "17098     POINT (-87.9030396611 41.9790708201)                        NaN  \n",
       "20908     POINT (-87.9030396611 41.9790708201)                        NaN  \n",
       "...                                        ...                        ...  \n",
       "15219761   POINT (-87.7509342894 41.785998518)                        NaN  \n",
       "15219773   POINT (-87.7509342894 41.785998518)                        NaN  \n",
       "15219984   POINT (-87.7509342894 41.785998518)                        NaN  \n",
       "15220193   POINT (-87.7509342894 41.785998518)                        NaN  \n",
       "15226185  POINT (-87.9030396611 41.9790708201)                        NaN  \n",
       "\n",
       "[8745 rows x 10 columns]"
      ]
     },
     "execution_count": 23,
     "metadata": {},
     "output_type": "execute_result"
    }
   ],
   "source": [
    "# use the filter and show the first rows, if there are any\n",
    "df[(df['Dropoff Centroid  Location'].isna()) & (df['Dropoff Census Tract']!=0)]"
   ]
  },
  {
   "cell_type": "markdown",
   "id": "c65ae50b-98a5-4a18-9636-b34103f29047",
   "metadata": {},
   "source": [
    "We can observe that there are roughly 9000 rides that have a dropoff census tract but not a dropoff location. Mapping them is only worthwhile if the rides actually ended inside the city. Otherwise, we can simply treat them as the rides where no information of the ending location are known.\n",
    "We can check the location of the census tracts on the website: https://www.chicagocityscape.com/maps/index.php#/?places_type=censustract&search_term=17031804603%20. Doing so for the most prevalent census tracts in the filter below, we find that these census tract are in the metropolitan area but not the city of chicago. Hence, we decide to drop them, as its only 9000 rides and mapping them would involve getting GPS data for these census tracts, as they cannont be mapped from other rides in the sample."
   ]
  },
  {
   "cell_type": "code",
   "execution_count": 24,
   "id": "73829d0a-7e9c-4602-ae13-e6cd8a5ccd1b",
   "metadata": {},
   "outputs": [
    {
     "data": {
      "text/plain": [
       "17031804603    3040\n",
       "17031809400    1264\n",
       "17031806600     496\n",
       "17031820901     445\n",
       "17031801603     278\n",
       "               ... \n",
       "17031827400       1\n",
       "17031816900       1\n",
       "17031804803       1\n",
       "17031818800       1\n",
       "17031823400       1\n",
       "Name: Dropoff Census Tract, Length: 230, dtype: Int64"
      ]
     },
     "execution_count": 24,
     "metadata": {},
     "output_type": "execute_result"
    }
   ],
   "source": [
    "# filter the most common census track for the scenario\n",
    "df[(df['Dropoff Centroid  Location'].isna()) & (df['Dropoff Census Tract']!=0)]['Dropoff Census Tract'].value_counts()"
   ]
  },
  {
   "cell_type": "code",
   "execution_count": 25,
   "id": "9c9a8794-08a8-477c-a1f9-f7f213f02f1d",
   "metadata": {},
   "outputs": [],
   "source": [
    "# getting the indexes of  the rides that have no dropoff location but a dropoff census tract which is outside of chicago\n",
    "dropoff_idx = df[(df['Dropoff Centroid  Location'].isna()) & (df['Dropoff Census Tract']!=0)].index\n",
    "\n",
    "# drop rides\n",
    "df.drop(dropoff_idx, inplace = True)"
   ]
  },
  {
   "cell_type": "markdown",
   "id": "43959817-118e-47ec-94ec-2f571cb517c0",
   "metadata": {},
   "source": [
    "After dropping these rides, we can also drop the 'Dropoff Census Tract' Columns with the same reasoning we used for the 'Pickup Census Tract Columns' ."
   ]
  },
  {
   "cell_type": "code",
   "execution_count": 26,
   "id": "7f95806c-0b87-40a7-9a87-841979843fb6",
   "metadata": {},
   "outputs": [
    {
     "data": {
      "text/plain": [
       "8745"
      ]
     },
     "execution_count": 26,
     "metadata": {},
     "output_type": "execute_result"
    }
   ],
   "source": [
    "len(dropoff_idx)"
   ]
  },
  {
   "cell_type": "markdown",
   "id": "7f9d7e29-d2ad-4650-aa79-b8f8be59cddd",
   "metadata": {},
   "source": [
    "<span style =\"font-size: 18px; font-weight: bold;color: #43556A;\">\n",
    "        5.4 Drop the census tracts\n",
    "</span>\n",
    "<hr style=\"color: #8EB944; height: 1px;background-color: #43556A;border: none\">"
   ]
  },
  {
   "cell_type": "code",
   "execution_count": 52,
   "id": "90d856d3-93b3-495e-9444-e293dd4bca92",
   "metadata": {},
   "outputs": [],
   "source": [
    "df.drop(columns=['Pickup Census Tract', 'Dropoff Census Tract'], inplace=True)"
   ]
  },
  {
   "cell_type": "markdown",
   "id": "1087e594-752f-4f51-b24a-9ebc63bb34ab",
   "metadata": {},
   "source": [
    "Now we have reduced the spatial data to just two variables. This is reasonable, as the GPS data are the most accurate information and each centroid location corresponds to a single census tract and a single community area."
   ]
  },
  {
   "cell_type": "code",
   "execution_count": null,
   "id": "d28621d4-8266-427c-93ab-b10621cc2c9a",
   "metadata": {},
   "outputs": [],
   "source": []
  },
  {
   "cell_type": "markdown",
   "id": "1e4dfa0a-fa26-405c-8c73-bbb1355b15a4",
   "metadata": {},
   "source": [
    "<span style =\"font-size: 18px; font-weight: bold;color: #43556A;\">\n",
    "        6. Split timestamps into 'Day' and  'Hour' variables\n",
    "        </span>\n",
    "<hr style=\"color: #8EB944; height: 1px;background-color: #43556A;border: none\">"
   ]
  },
  {
   "cell_type": "code",
   "execution_count": 27,
   "id": "3a95d069-84f8-4eea-92f4-209883fb1469",
   "metadata": {},
   "outputs": [],
   "source": [
    "df['Start Day'] = df['Trip Start Timestamp'].dt.date\n",
    "df['End Day'] = df['Trip End Timestamp'].dt.date\n",
    "\n",
    "df['Start Time'] = df['Trip Start Timestamp'].dt.time\n",
    "df['End Time'] = df['Trip End Timestamp'].dt.time"
   ]
  },
  {
   "cell_type": "code",
   "execution_count": null,
   "id": "721280f2-9dd6-4da0-9c60-870467867f07",
   "metadata": {},
   "outputs": [],
   "source": []
  },
  {
   "cell_type": "markdown",
   "id": "53db6a1c-1c64-4ab9-b2b4-8fbae8a32a64",
   "metadata": {},
   "source": [
    "<span style =\"font-size: 18px; font-weight: bold;color: #43556A;\">\n",
    "        7. Calculate estimate for the trip duration with the timestamps\n",
    "        </span>\n",
    "<hr style=\"color: #8EB944; height: 1px;background-color: #43556A;border: none\">"
   ]
  },
  {
   "cell_type": "code",
   "execution_count": 28,
   "id": "19cee2d4-12dd-4070-b486-871cd68094fb",
   "metadata": {},
   "outputs": [],
   "source": [
    "# calculate the trip duration with the time stamps, because some trip seconds data are erroneous\n",
    "df['Trip Duration'] = df['Trip End Timestamp'] - df['Trip Start Timestamp']"
   ]
  },
  {
   "cell_type": "code",
   "execution_count": null,
   "id": "d5c6275e-a6d7-4eb7-b889-ebcc8b8fdbb9",
   "metadata": {},
   "outputs": [],
   "source": []
  },
  {
   "cell_type": "code",
   "execution_count": null,
   "id": "f789f60f-d183-4e28-98cf-c37c5a3d0bb6",
   "metadata": {},
   "outputs": [],
   "source": []
  },
  {
   "cell_type": "markdown",
   "id": "773fe230-5c36-4a30-a5d4-62fdd1e63f6e",
   "metadata": {},
   "source": [
    "<div>\n",
    "    <span style =\"font-size: 40px; font-weight: bold; color: #8EB944\">\n",
    "        Dropping outliers by looking at scenarios\n",
    "    </span>\n",
    "    \n",
    "<hr style=\"color: #8EB944; height: 3px;background-color: #8EB944;border: none\">\n",
    "</div>"
   ]
  },
  {
   "cell_type": "markdown",
   "id": "b3011775-0ef3-41d7-ba67-37b63adde843",
   "metadata": {},
   "source": [
    "<span style =\"font-size: 18px; font-weight: bold;color: #43556A;\">\n",
    "        1. Drop rides that ended before they started\n"
   ]
  },
  {
   "cell_type": "code",
   "execution_count": 29,
   "id": "12cd20d2-fc53-4c9f-8573-e7ed724d4ca8",
   "metadata": {},
   "outputs": [],
   "source": [
    "# filter the indexes of rides that ended before they started and subsequently drop them\n",
    "inval_time = df[df['Trip End Timestamp'] < df['Trip Start Timestamp']].index\n",
    "df.drop(inval_time, inplace = True)"
   ]
  },
  {
   "cell_type": "code",
   "execution_count": 31,
   "id": "c182c918-6399-42ed-b80a-19a9868b42d6",
   "metadata": {},
   "outputs": [
    {
     "data": {
      "text/plain": [
       "329"
      ]
     },
     "execution_count": 31,
     "metadata": {},
     "output_type": "execute_result"
    }
   ],
   "source": [
    "len(inval_time)"
   ]
  },
  {
   "cell_type": "markdown",
   "id": "66caa78b-9da7-43c5-bf21-b6f686b4b6b8",
   "metadata": {},
   "source": [
    "<span style =\"font-size: 18px; font-weight: bold;color: #43556A;\">\n",
    "        2. Drop  rides with inconsistent timestamps"
   ]
  },
  {
   "cell_type": "code",
   "execution_count": 32,
   "id": "434ca1d5-1a5e-41df-b4ea-8958d335c1f7",
   "metadata": {},
   "outputs": [],
   "source": [
    "# filter the indexes of rides that started and ended in the same 15 minute interval but where the ride  took longer than 15 minutes\n",
    "time_errors = df[(df['Trip End Timestamp'] == df['Trip Start Timestamp']) & \n",
    "(df['Trip Seconds']>900)].index\n",
    "df.drop(time_errors, inplace = True)"
   ]
  },
  {
   "cell_type": "code",
   "execution_count": 33,
   "id": "873ad2de-56a6-4e00-bc17-5b0a386e1583",
   "metadata": {},
   "outputs": [
    {
     "data": {
      "text/plain": [
       "137"
      ]
     },
     "execution_count": 33,
     "metadata": {},
     "output_type": "execute_result"
    }
   ],
   "source": [
    "len(time_errors)"
   ]
  },
  {
   "cell_type": "markdown",
   "id": "5c9f3154-e8b2-4029-bff6-35b35bccc406",
   "metadata": {},
   "source": [
    "After handling these scenarios, the timestamps are no longer needed and can be dropped."
   ]
  },
  {
   "cell_type": "markdown",
   "id": "1f82e640-3908-4ae3-bc9d-2cdd429db44e",
   "metadata": {},
   "source": [
    "<span style =\"font-size: 18px; font-weight: bold;color: #43556A;\">\n",
    "         Drop the timestamps"
   ]
  },
  {
   "cell_type": "code",
   "execution_count": 34,
   "id": "3efd016d-f581-42ba-ae90-86f56af24194",
   "metadata": {},
   "outputs": [],
   "source": [
    "df.drop(columns=['Trip Start Timestamp', 'Trip End Timestamp'], inplace=True)"
   ]
  },
  {
   "cell_type": "code",
   "execution_count": null,
   "id": "d1c3bf6c-1694-47c3-a31e-29d8a5ddfa84",
   "metadata": {},
   "outputs": [],
   "source": []
  },
  {
   "cell_type": "markdown",
   "id": "36755cd1-2516-484e-8af6-fcd8bc61929d",
   "metadata": {},
   "source": [
    "<span style =\"font-size: 18px; font-weight: bold;color: #43556A;\">\n",
    "        3. Drop rides without valid fares\n"
   ]
  },
  {
   "cell_type": "code",
   "execution_count": 35,
   "id": "a744b4c1-31e8-4d97-b2f7-3022ca3658c8",
   "metadata": {},
   "outputs": [],
   "source": [
    "# filter the indexes of rides with a fare of less than 3.25$ (minimum fare) dollars and subsequently drop them\n",
    "inval_fare = df[df['Fare']<3.25].index\n",
    "df.drop(inval_fare, inplace = True)\n",
    "\n",
    "# filter the indexes of rides with a fare of exactly 3.25$ but more than a mile traveled (each additional mile costs 2,25$)\n",
    "inval_fare2 = df[(df['Fare']==3.25) & (df['Trip Miles'] >1)].index\n",
    "df.drop(inval_fare2, inplace = True)"
   ]
  },
  {
   "cell_type": "code",
   "execution_count": 36,
   "id": "e57aea39-eac4-4174-a974-7a301bdc26bd",
   "metadata": {},
   "outputs": [
    {
     "name": "stdout",
     "output_type": "stream",
     "text": [
      "17373 1721\n"
     ]
    }
   ],
   "source": [
    "print(len(inval_fare),len(inval_fare2))"
   ]
  },
  {
   "cell_type": "markdown",
   "id": "79aeaf3b-34db-4e02-969f-2f3778c88022",
   "metadata": {},
   "source": [
    "<span style =\"font-size: 18px; font-weight: bold;color: #43556A;\">\n",
    "        4. Drop extremely long rides\n"
   ]
  },
  {
   "cell_type": "code",
   "execution_count": 37,
   "id": "ad349bf6-5056-493e-9ec4-9f2659b61d3a",
   "metadata": {},
   "outputs": [],
   "source": [
    "# use pandas timedelta for filtering rides  that lasted  more than 8 hours and drop them, as these are likely outliers.\n",
    "long_rides =  df[df['Trip Duration']>Timedelta('0 days 08:00:00')].index\n",
    "df.drop(long_rides, inplace = True)\n",
    "\n",
    "# lets also  drop  the rides that were longer than 8 hours according  to the trip seconds.\n",
    "longer_rides =  df[df['Trip Seconds'] >= 28800].index\n",
    "df.drop(longer_rides, inplace = True)"
   ]
  },
  {
   "cell_type": "code",
   "execution_count": 38,
   "id": "f38b6f37-27a3-4f68-93ed-30d7a30b8ade",
   "metadata": {},
   "outputs": [
    {
     "name": "stdout",
     "output_type": "stream",
     "text": [
      "7325 39\n"
     ]
    }
   ],
   "source": [
    "print(len(long_rides),len(longer_rides))"
   ]
  },
  {
   "cell_type": "markdown",
   "id": "4c609d78-2d3f-4eb6-be2d-a9764867fc3c",
   "metadata": {},
   "source": [
    "<span style =\"font-size: 18px; font-weight: bold;color: #43556A;\">\n",
    "        5. Drop missing fares, trip seconds and trip miles\n"
   ]
  },
  {
   "cell_type": "markdown",
   "id": "583e0bc5-c229-46f9-abcb-fe3ccf968f33",
   "metadata": {},
   "source": [
    "As there are only 1500 missing values combined for the 3 variables: 'Fare', 'Trip Seconds', 'Trip Miles', we decide to drop them."
   ]
  },
  {
   "cell_type": "code",
   "execution_count": 39,
   "id": "7b1e5620-e5f8-4658-82a8-84920a390246",
   "metadata": {},
   "outputs": [],
   "source": [
    "missing_miles = df[df['Trip Miles'].isna()].index\n",
    "df.drop(missing_miles, inplace = True)\n",
    "\n",
    "\n",
    "missing_seconds = df[df['Trip Seconds'].isna()].index\n",
    "df.drop(missing_seconds, inplace = True)\n",
    "\n",
    "\n",
    "missing_fares = df[df['Fare'].isna()].index\n",
    "df.drop(missing_fares, inplace = True)"
   ]
  },
  {
   "cell_type": "code",
   "execution_count": 40,
   "id": "aae640f1-e153-4111-942c-433e5f0caed4",
   "metadata": {},
   "outputs": [
    {
     "name": "stdout",
     "output_type": "stream",
     "text": [
      "74 399 974\n"
     ]
    }
   ],
   "source": [
    "print(len(missing_seconds), len(missing_miles), len(missing_fares))"
   ]
  },
  {
   "cell_type": "markdown",
   "id": "a8632776-324e-4f51-8832-81e0ee85f805",
   "metadata": {},
   "source": [
    "<span style =\"font-size: 18px; font-weight: bold;color: #43556A;\">\n",
    "        6. Drop rides where the taxi was stationary\n",
    "</span>\n",
    "<hr style=\"color: #8EB944; height: 1px;background-color: #43556A;border: none\">"
   ]
  },
  {
   "cell_type": "markdown",
   "id": "4f80a592-52ee-4d3f-8321-12ea513a2ca7",
   "metadata": {},
   "source": [
    "We assume that in order for a ride to be valid, the taxi has to move some time. Thus, the trip seconds or trip miles shouldnt be 0 or the dropoff location is different to the pickup location. A fare of more than 0 dollars alone doesnt constitute a valid ride, because there may have been problems with the taxometer."
   ]
  },
  {
   "cell_type": "code",
   "execution_count": 41,
   "id": "77fef023-1caa-427a-8faa-52caee8cf80b",
   "metadata": {},
   "outputs": [],
   "source": [
    "# filter rides that have the  same start and endtime, 0 trip seconds and 0 trip miles and the same pickup and dropoff location\n",
    "\n",
    "invalid_rides = df[(df['Trip Seconds']==0) & (df['Trip Duration'] == Timedelta('0 days 00:00:00'))\n",
    "& (df['Pickup Centroid Location'] == df['Dropoff Centroid  Location'])\n",
    "& (df['Trip Miles'] == 0)].index\n",
    "df.drop(invalid_rides, inplace = True)"
   ]
  },
  {
   "cell_type": "code",
   "execution_count": 42,
   "id": "b1efd42b-a1f6-4816-92f0-57e051d4e3cc",
   "metadata": {},
   "outputs": [
    {
     "data": {
      "text/plain": [
       "189953"
      ]
     },
     "execution_count": 42,
     "metadata": {},
     "output_type": "execute_result"
    }
   ],
   "source": [
    "len(invalid_rides)"
   ]
  },
  {
   "cell_type": "markdown",
   "id": "cc104c5c-ec74-464b-9913-09a591831d32",
   "metadata": {},
   "source": [
    "<span style =\"font-size: 18px; font-weight: bold;color: #43556A;\">\n",
    "        7. Drop rides with illogical prices\n",
    "</span>\n",
    "<hr style=\"color: #8EB944; height: 1px;background-color: #43556A;border: none\">"
   ]
  },
  {
   "cell_type": "markdown",
   "id": "c2fc652f-9597-4c49-ac23-df15f15fdfeb",
   "metadata": {},
   "source": [
    "Official prices for taxis in chicago in 2020 can be found here: https://www.chicago.gov/content/dam/city/depts/bacp/publicvehicleinfo/Chicabs/chicagotaxiplacard20200629.pdf.\n",
    "The prices for 2019 cannot be found on the offical pages anymore, but we only use them as a loose orientation.\n",
    "Since we only have the total fare and not all the components contributing to the fare, it is quite difficult to catch all outliers.\n",
    "Due to this, we look for outliers by using the percentiles of the 'Fare' variable in combination with other variables.\n",
    "A fare in the 99.9 percentile (92 Dollars or more) should correspond to a very far or long ride or someone had to pay 50 Dollars for throwing up in the cab.\n",
    "We are not interested in the latter and thus filter out all the rides that paid more than 92 Dollars but were not among either the 99,5% longest rides in terms of mileage or trip duration. These percentiles may seeem arbitray but make sense, when considering the cost from the link provided above. The minimum fare is 3,25USD, each mile is 2,25USD and each minute is 0,34USD. The 99.5th percentile for the trip duration is 75 minutes, the 99.5th percentile for the trip duration is 25 miles. This yields an expected price of 3,25+(0,34*75)+(25*2,25)=85USD. This still leaves a margin of 7 dollars for the airport tax and other fees\n"
   ]
  },
  {
   "cell_type": "code",
   "execution_count": 43,
   "id": "1304f79c-36f8-43dc-95d6-51d9fe9eb2e4",
   "metadata": {},
   "outputs": [],
   "source": [
    "# A price in the 99.9 percentile should correspond to a very far or long ride         \n",
    "drop_fares = df[(df['Fare']>np.percentile(df['Fare'],99.9)) & \n",
    "                       ((df['Trip Miles'] < df['Trip Miles'].quantile(0.995)) &\n",
    "                        (df['Trip Duration'] < df['Trip Duration'].quantile(0.995)))].index\n",
    "# drop the outliers\n",
    "df.drop(drop_fares, inplace = True)"
   ]
  },
  {
   "cell_type": "code",
   "execution_count": 44,
   "id": "de4cd778-1d18-4ebb-b85e-e0d3794d7f17",
   "metadata": {},
   "outputs": [
    {
     "data": {
      "text/plain": [
       "4285"
      ]
     },
     "execution_count": 44,
     "metadata": {},
     "output_type": "execute_result"
    }
   ],
   "source": [
    "len(drop_fares)"
   ]
  },
  {
   "cell_type": "markdown",
   "id": "3f3ffc43-555b-409c-a62e-153b98716a7c",
   "metadata": {},
   "source": [
    "<div>\n",
    "    <span style =\"font-size: 40px; font-weight: bold; color: #8EB944\">\n",
    "        Dropping outliers with quantiles\n",
    "    </span>\n",
    "    \n",
    "<hr style=\"color: #8EB944; height: 3px;background-color: #8EB944;border: none\">\n",
    "</div>"
   ]
  },
  {
   "cell_type": "markdown",
   "id": "1221eb7b-d89d-46c5-a407-8e72fc3bbe5f",
   "metadata": {},
   "source": [
    "We assume that the scenarios in the previous section did not catch all outliers, because there are probably 100 more scenarios. Since we cannot check each ride, we now remove rides by looking at the percentile values of the 2 KPI's 'Trip Miles' and 'Fare'. We do not remove outliers based on the variable 'Trip Seconds' or 'Trip Duration', because we already filtered out all the rides that were longer than 8 hours. We decide to drop all rides with 'Fares' or 'Trip Miles' more than 5 standard deviations away from the mean. "
   ]
  },
  {
   "cell_type": "code",
   "execution_count": 45,
   "id": "e2cbfe99-2aa0-48d8-aeda-746367455c0a",
   "metadata": {},
   "outputs": [
    {
     "data": {
      "text/plain": [
       "0.25000      6.25000\n",
       "0.50000      8.25000\n",
       "0.75000     14.75000\n",
       "0.90000     39.75000\n",
       "0.99000     54.25000\n",
       "0.99500     64.00000\n",
       "0.99900     86.50000\n",
       "0.99950     99.50000\n",
       "0.99990    149.54940\n",
       "0.99995    188.25000\n",
       "0.99999    452.06946\n",
       "Name: Fare, dtype: float64"
      ]
     },
     "execution_count": 45,
     "metadata": {},
     "output_type": "execute_result"
    }
   ],
   "source": [
    "df['Fare'].quantile([0.25,0.5,0.75,0.9,0.99,0.995,0.999,0.9995,0.9999, 0.99995, 0.99999])"
   ]
  },
  {
   "cell_type": "markdown",
   "id": "ed19edb4-18e6-4918-9c5d-d1f25c2440cf",
   "metadata": {},
   "source": [
    "<div class=\"alert alert-block alert-warning\">\n",
    "<b>Question:</b> All of the prices seem feasible.... Maybe don't do this? Maybe look at the quantiles in the table and choose one?\n",
    "</div>"
   ]
  },
  {
   "cell_type": "code",
   "execution_count": 46,
   "id": "057fa0d7-08b2-4a03-aaa5-da491eee280a",
   "metadata": {},
   "outputs": [],
   "source": [
    "high_fares = df[df['Fare']>df['Fare'].mean() + 5 *df['Fare'].std()].index\n",
    "df.drop(high_fares, inplace = True)"
   ]
  },
  {
   "cell_type": "code",
   "execution_count": 47,
   "id": "6511e401-5c42-45ee-838d-d04af923dd30",
   "metadata": {},
   "outputs": [
    {
     "data": {
      "text/plain": [
       "5279"
      ]
     },
     "execution_count": 47,
     "metadata": {},
     "output_type": "execute_result"
    }
   ],
   "source": [
    "len(high_fares)"
   ]
  },
  {
   "cell_type": "code",
   "execution_count": 48,
   "id": "b9489be8-1f1d-4e7a-b258-9f00dc574a48",
   "metadata": {},
   "outputs": [
    {
     "data": {
      "text/plain": [
       "0.25000      0.60000\n",
       "0.50000      1.30000\n",
       "0.75000      3.30000\n",
       "0.90000     13.79000\n",
       "0.99000     20.84000\n",
       "0.99500     24.60000\n",
       "0.99900     33.16000\n",
       "0.99950     36.68000\n",
       "0.99990     43.47000\n",
       "0.99995     45.50000\n",
       "0.99999    206.96706\n",
       "Name: Trip Miles, dtype: float64"
      ]
     },
     "execution_count": 48,
     "metadata": {},
     "output_type": "execute_result"
    }
   ],
   "source": [
    "df['Trip Miles'].quantile([0.25,0.5,0.75,0.9,0.99,0.995,0.999,0.9995,0.9999, 0.99995, 0.99999])"
   ]
  },
  {
   "cell_type": "code",
   "execution_count": 49,
   "id": "45b1a5ed-a0a7-42dc-8976-418f819505c4",
   "metadata": {},
   "outputs": [],
   "source": [
    "high_mileage = df[df['Trip Miles']>df['Trip Miles'].mean() + 5 *df['Trip Miles'].std()].index\n",
    "df.drop(high_mileage, inplace = True)"
   ]
  },
  {
   "cell_type": "code",
   "execution_count": 50,
   "id": "28f79d36-be4e-4fed-8dc7-30f0b074ec88",
   "metadata": {},
   "outputs": [
    {
     "data": {
      "text/plain": [
       "15892"
      ]
     },
     "execution_count": 50,
     "metadata": {},
     "output_type": "execute_result"
    }
   ],
   "source": [
    "len(high_mileage)"
   ]
  },
  {
   "cell_type": "markdown",
   "id": "64d9eb74-cc82-49e7-b563-d9cffd57b541",
   "metadata": {},
   "source": [
    "<div class=\"alert alert-block alert-warning\">\n",
    "<b>Question:</b> Should we drop extremly short rides like the ones in the filter below ?\n",
    "</div>"
   ]
  },
  {
   "cell_type": "code",
   "execution_count": null,
   "id": "89d5d565-8a63-4cab-8d18-d94153a0f211",
   "metadata": {},
   "outputs": [],
   "source": [
    "df[(df['Trip Miles']==0) & (df['Trip Duration']==Timedelta('0 days 00:00:00'))&\n",
    "(df['Pickup Centroid Location']==df['Dropoff Centroid  Location'])]"
   ]
  }
 ],
 "metadata": {
  "kernelspec": {
   "display_name": "fullstack",
   "language": "python",
   "name": "fullstack"
  },
  "language_info": {
   "codemirror_mode": {
    "name": "ipython",
    "version": 3
   },
   "file_extension": ".py",
   "mimetype": "text/x-python",
   "name": "python",
   "nbconvert_exporter": "python",
   "pygments_lexer": "ipython3",
   "version": "3.9.13"
  }
 },
 "nbformat": 4,
 "nbformat_minor": 5
}
